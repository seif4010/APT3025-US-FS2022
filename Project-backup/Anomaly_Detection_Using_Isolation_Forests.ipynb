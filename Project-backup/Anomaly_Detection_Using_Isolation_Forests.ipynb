{
 "cells": [
  {
   "cell_type": "raw",
   "metadata": {},
   "source": [
    "---\n",
    "title: Isolation Forest Algorithm\n",
    "description: Detection of anomalies in Financial transactions using Isolation Forests\n",
    "author: Rush Morgan Ounza\n",
    "show-code: False\n",
    "show-prompt: True\n",
    "params:\n",
    "    components:\n",
    "        input: numeric\n",
    "        label: Please provide the percentage of variability\n",
    "        value: 0.96\n",
    "        min: 0\n",
    "        max: 1\n",
    "        step: 0.10\n",
    "    estimators:\n",
    "        input: slider\n",
    "        label: Please provide the number of estimators\n",
    "        value: 150\n",
    "        min: 0\n",
    "        max: 200\n",
    "    contaminant:\n",
    "        input: numeric\n",
    "        label: Please provide the degree of contamination\n",
    "        value: 0.00018\n",
    "        min: 0\n",
    "        max: 0.00100\n",
    "        step: 0.00001\n",
    "    filename:\n",
    "        label: Input your financial dataset\n",
    "        input: file\n",
    "        maxFileSize: 10MB\n",
    "---"
   ]
  },
  {
   "cell_type": "markdown",
   "metadata": {},
   "source": [
    "## Detection of Anomalies in Financial Transactions using Isolation Forests\n"
   ]
  },
  {
   "cell_type": "markdown",
   "metadata": {},
   "source": [
    "## Introduction and Experiment Overview"
   ]
  },
  {
   "cell_type": "markdown",
   "metadata": {},
   "source": [
    "### Fraud and Accounting Information Systems (AIS)"
   ]
  },
  {
   "cell_type": "markdown",
   "metadata": {},
   "source": [
    "Financial Institutions contain and process sensitive personal information of its customers and they are mandated to ensure the security of the institution, its partners, and the security of the financial sector as a whole. \n",
    "However, **fraud**, embezzlement, money laundering, and suspicious terrorist financing pose a major threat to the security of the financial sector. \n",
    "**Fraud** is any deceptive action that is purposefully designed to provide the person with an unlawful gain or to deny a right to a victim. Types of fraud include credit card fraud, accounting fraud, wire fraud, securities fraud, and tax fraud. \n",
    "\n",
    "A recent study conducted by the auditors of **PwC** in 2020, revealed that 58% of Kenyan respondents experienced economic crimes in the past two years which is higher than the Global average of 47% and that 44% of Kenyan companies that experienced economic crimes had between 6-10 incidents reported in the last 24 months. Out of the economic crimes experienced, Accounting/Financial Statement fraud ranked third in Kenya at 15% with the top internal perpetrators being Operations staff at 53%, Middle management at 28% and Senior management at 18% (PwC, 2020)."
   ]
  },
  {
   "cell_type": "markdown",
   "metadata": {},
   "source": [
    "<img align=\"middle\" style=\"max-width: 550px; height: auto\" src=\"images/accounting.png\">"
   ]
  },
  {
   "cell_type": "markdown",
   "metadata": {},
   "source": [
    "**Figure 1:** Hierarchical view of an Accounting Information System (AIS) that records distinct layers of abstraction, namely (1) the business process information, (2) the accounting information as well as the (3) technical journal entry information in designated database tables."
   ]
  },
  {
   "cell_type": "markdown",
   "metadata": {},
   "source": [
    "The Accounting Information System shown above indicates 3 distinct levels which are:\n",
    "\n",
    "1. Business processes\n",
    "2. Accounting information\n",
    "3. Journal entries stored in the database.\n",
    "\n",
    "Such accounting systems collect vast quantities of financial data that also doubles up as electronic evidence. This snapshot containing journal entries information in their designated database tables is just a drop in the ocean of the huge number of entries/transactions recorded per day for a Financial Institution. Relating this to fraud, the financial data steadily collected by such systems may contain valuable traces of suspicious financial transactions. These suspicious transactions are manifested in the form of anomalies in the journal entries."
   ]
  },
  {
   "cell_type": "markdown",
   "metadata": {},
   "source": [
    "### Classification of Financial Anomalies"
   ]
  },
  {
   "cell_type": "markdown",
   "metadata": {},
   "source": [
    "There exists two classes of anomalous journal entries, namely **\"global\"** and **\"local\"** anomalies.\n",
    "\n",
    "> - Global Anomalies, are financial transactions that display highly unusual individual attribute values. These anomalies usually relate to highly skewed attributes e.g. unusual times of posting, or ledgers that are rarely used. It has been standard practice over the years that \"red-flag\" tests, performed by auditors during annual audits, are specifically designed to capture those types of anomalies. However, such tests might result in a high volume of false positive alerts due to regular reverse postings which are not fraudulent and year-end adjustments usually associated with a low fraud risk.\n",
    "\n",
    "> - Local Anomalies, are financial transactions that exhibit an unusual or rare combination of attribute values while the individual attribute values occur quite frequently e.g. unusual accounting records.\n",
    "This type of anomaly is significantly more difficult to detect since perpetrators intend to disguise their activities trying to imitate a regular behavior. As a result, such anomalies usually pose a high fraud risk since they might correspond to e.g. misused user accounts, irregular combinations of general ledger accounts and posting keys that don't follow an usual activity pattern.\n"
   ]
  },
  {
   "cell_type": "markdown",
   "metadata": {},
   "source": [
    "<img align=\"middle\" style=\"max-width: 450px; height: auto\" src=\"images/anomalies.png\">"
   ]
  },
  {
   "cell_type": "markdown",
   "metadata": {},
   "source": [
    "**Figure 2:** Illustrative example of global and local anomalies portrait in a feature space of the two transaction features \"Posting Amount\" (Feature 1) and \"Posting Positions\" (Feature 2)."
   ]
  },
  {
   "cell_type": "code",
   "execution_count": 1,
   "metadata": {},
   "outputs": [],
   "source": [
    "# Libraries import\n",
    "# importing utilities\n",
    "import os\n",
    "import sys\n",
    "from datetime import datetime\n",
    "import io\n",
    "import urllib\n",
    "\n",
    "# importing data science libraries\n",
    "import pandas as pd\n",
    "import random as rd\n",
    "import numpy as np\n",
    "\n",
    "# importing sklearn libraries\n",
    "from sklearn.ensemble import IsolationForest\n",
    "from sklearn.svm import OneClassSVM\n",
    "from sklearn.neighbors import LocalOutlierFactor\n",
    "from sklearn.cluster import KMeans\n",
    "from sklearn.model_selection import train_test_split\n",
    "\n",
    "# import visualization libraries\n",
    "import matplotlib.pyplot as plt\n",
    "from mpl_toolkits.mplot3d import Axes3D\n",
    "import seaborn as sns\n",
    "from IPython.display import Image, display\n",
    "sns.set_style('darkgrid')\n",
    "\n",
    "# ignore potential warnings\n",
    "import warnings\n",
    "warnings.filterwarnings(\"ignore\")"
   ]
  },
  {
   "cell_type": "code",
   "execution_count": 2,
   "metadata": {},
   "outputs": [],
   "source": [
    "%matplotlib inline"
   ]
  },
  {
   "cell_type": "code",
   "execution_count": 3,
   "metadata": {},
   "outputs": [],
   "source": [
    "#Random seed initialization\n",
    "# init deterministic seed\n",
    "seed_value = 1234 #4444 #3333 #2222 #1111 #1234\n",
    "rd.seed(seed_value) # set random seed\n",
    "np.random.seed(seed_value) # set numpy seed"
   ]
  },
  {
   "cell_type": "markdown",
   "metadata": {},
   "source": [
    "## Financial Fraud Detection Dataset"
   ]
  },
  {
   "cell_type": "markdown",
   "metadata": {},
   "source": [
    "Below is a descriptive analysis of the labs financial dataset. Furthermore, I shall apply some necessary pre-processing steps to train an Isolation Forest model. The dataset is based on a derivation of the **\"Synthetic Financial Dataset For Fraud Detection\"** by Lopez-Rojas available via the Kaggle predictive modelling and analytics competitions platform that can be obtained using the following link: https://www.kaggle.com/ntnu-testimon/paysim1.\n",
    "\n",
    "First, let us load the dataset and investigate its structure and attributes:"
   ]
  },
  {
   "cell_type": "code",
   "execution_count": 4,
   "metadata": {},
   "outputs": [],
   "source": [
    "# load the dataset into the notebook kernel\n",
    "ori_dataset = pd.read_csv('data/fraud_dataset_v2.csv')"
   ]
  },
  {
   "cell_type": "code",
   "execution_count": 5,
   "metadata": {},
   "outputs": [
    {
     "name": "stdout",
     "output_type": "stream",
     "text": [
      "[LOG 20220726-17:16:10] Transactional dataset of 533009 rows and 10 columns loaded\n"
     ]
    }
   ],
   "source": [
    "# inspect the datasets dimensionalities\n",
    "now = datetime.utcnow().strftime(\"%Y%m%d-%H:%M:%S\")\n",
    "print('[LOG {}] Transactional dataset of {} rows and {} columns loaded'.format(now, ori_dataset.shape[0], ori_dataset.shape[1]))"
   ]
  },
  {
   "cell_type": "markdown",
   "metadata": {},
   "source": [
    "### Initial Data and Attribute Assessment"
   ]
  },
  {
   "cell_type": "markdown",
   "metadata": {},
   "source": [
    "Below is the augmented dataset that has been modified to mimick a real-world dataset that one usually observes in SAP-ERP systems as part of SAP's Finance and Cost controlling (FICO) module. \n",
    "\n",
    "The dataset contains a subset of in total 7 categorical and 2 numerical attributes available in the FICO BKPF (containing the posted journal entry headers) and BSEG (containing the posted journal entry segments) tables. Please, find below a list of the individual attributes as well as a brief description of their respective semantics:\n",
    "\n",
    ">- `BELNR`: the accounting document number,\n",
    ">- `BUKRS`: the company code,\n",
    ">- `BSCHL`: the posting key,\n",
    ">- `HKONT`: the posted general ledger account,\n",
    ">- `PRCTR`: the posted profit center,\n",
    ">- `WAERS`: the currency key,\n",
    ">- `KTOSL`: the general ledger account key,\n",
    ">- `DMBTR`: the amount in local currency,\n",
    ">- `WRBTR`: the amount in document currency.\n",
    "\n",
    "Let's also have a closer look into the top 10 rows of the dataset:"
   ]
  },
  {
   "cell_type": "code",
   "execution_count": 6,
   "metadata": {},
   "outputs": [
    {
     "data": {
      "text/html": [
       "<div>\n",
       "<style scoped>\n",
       "    .dataframe tbody tr th:only-of-type {\n",
       "        vertical-align: middle;\n",
       "    }\n",
       "\n",
       "    .dataframe tbody tr th {\n",
       "        vertical-align: top;\n",
       "    }\n",
       "\n",
       "    .dataframe thead th {\n",
       "        text-align: right;\n",
       "    }\n",
       "</style>\n",
       "<table border=\"1\" class=\"dataframe\">\n",
       "  <thead>\n",
       "    <tr style=\"text-align: right;\">\n",
       "      <th></th>\n",
       "      <th>BELNR</th>\n",
       "      <th>WAERS</th>\n",
       "      <th>BUKRS</th>\n",
       "      <th>KTOSL</th>\n",
       "      <th>PRCTR</th>\n",
       "      <th>BSCHL</th>\n",
       "      <th>HKONT</th>\n",
       "      <th>DMBTR</th>\n",
       "      <th>WRBTR</th>\n",
       "      <th>label</th>\n",
       "    </tr>\n",
       "  </thead>\n",
       "  <tbody>\n",
       "    <tr>\n",
       "      <th>0</th>\n",
       "      <td>288203</td>\n",
       "      <td>C3</td>\n",
       "      <td>C31</td>\n",
       "      <td>C9</td>\n",
       "      <td>C92</td>\n",
       "      <td>A3</td>\n",
       "      <td>B1</td>\n",
       "      <td>280979.60</td>\n",
       "      <td>0.00</td>\n",
       "      <td>regular</td>\n",
       "    </tr>\n",
       "    <tr>\n",
       "      <th>1</th>\n",
       "      <td>324441</td>\n",
       "      <td>C1</td>\n",
       "      <td>C18</td>\n",
       "      <td>C7</td>\n",
       "      <td>C76</td>\n",
       "      <td>A1</td>\n",
       "      <td>B2</td>\n",
       "      <td>129856.53</td>\n",
       "      <td>243343.00</td>\n",
       "      <td>regular</td>\n",
       "    </tr>\n",
       "    <tr>\n",
       "      <th>2</th>\n",
       "      <td>133537</td>\n",
       "      <td>C1</td>\n",
       "      <td>C19</td>\n",
       "      <td>C2</td>\n",
       "      <td>C20</td>\n",
       "      <td>A1</td>\n",
       "      <td>B3</td>\n",
       "      <td>957463.97</td>\n",
       "      <td>3183838.41</td>\n",
       "      <td>regular</td>\n",
       "    </tr>\n",
       "    <tr>\n",
       "      <th>3</th>\n",
       "      <td>331521</td>\n",
       "      <td>C4</td>\n",
       "      <td>C48</td>\n",
       "      <td>C9</td>\n",
       "      <td>C95</td>\n",
       "      <td>A2</td>\n",
       "      <td>B1</td>\n",
       "      <td>2681709.51</td>\n",
       "      <td>28778.00</td>\n",
       "      <td>regular</td>\n",
       "    </tr>\n",
       "    <tr>\n",
       "      <th>4</th>\n",
       "      <td>375333</td>\n",
       "      <td>C5</td>\n",
       "      <td>C58</td>\n",
       "      <td>C1</td>\n",
       "      <td>C19</td>\n",
       "      <td>A3</td>\n",
       "      <td>B1</td>\n",
       "      <td>910514.49</td>\n",
       "      <td>346.00</td>\n",
       "      <td>regular</td>\n",
       "    </tr>\n",
       "    <tr>\n",
       "      <th>5</th>\n",
       "      <td>327203</td>\n",
       "      <td>C1</td>\n",
       "      <td>C15</td>\n",
       "      <td>C6</td>\n",
       "      <td>C68</td>\n",
       "      <td>A1</td>\n",
       "      <td>B2</td>\n",
       "      <td>357627.56</td>\n",
       "      <td>704520.00</td>\n",
       "      <td>regular</td>\n",
       "    </tr>\n",
       "    <tr>\n",
       "      <th>6</th>\n",
       "      <td>292545</td>\n",
       "      <td>C4</td>\n",
       "      <td>C47</td>\n",
       "      <td>C2</td>\n",
       "      <td>C28</td>\n",
       "      <td>A2</td>\n",
       "      <td>B3</td>\n",
       "      <td>955576.84</td>\n",
       "      <td>128328.00</td>\n",
       "      <td>regular</td>\n",
       "    </tr>\n",
       "    <tr>\n",
       "      <th>7</th>\n",
       "      <td>335839</td>\n",
       "      <td>C1</td>\n",
       "      <td>C19</td>\n",
       "      <td>C1</td>\n",
       "      <td>C17</td>\n",
       "      <td>A1</td>\n",
       "      <td>B1</td>\n",
       "      <td>41769.26</td>\n",
       "      <td>0.00</td>\n",
       "      <td>regular</td>\n",
       "    </tr>\n",
       "    <tr>\n",
       "      <th>8</th>\n",
       "      <td>369064</td>\n",
       "      <td>C4</td>\n",
       "      <td>C40</td>\n",
       "      <td>C9</td>\n",
       "      <td>C97</td>\n",
       "      <td>A2</td>\n",
       "      <td>B1</td>\n",
       "      <td>44309.79</td>\n",
       "      <td>0.00</td>\n",
       "      <td>regular</td>\n",
       "    </tr>\n",
       "    <tr>\n",
       "      <th>9</th>\n",
       "      <td>138724</td>\n",
       "      <td>C6</td>\n",
       "      <td>C69</td>\n",
       "      <td>C1</td>\n",
       "      <td>C12</td>\n",
       "      <td>A2</td>\n",
       "      <td>B1</td>\n",
       "      <td>466720.45</td>\n",
       "      <td>43843.00</td>\n",
       "      <td>regular</td>\n",
       "    </tr>\n",
       "  </tbody>\n",
       "</table>\n",
       "</div>"
      ],
      "text/plain": [
       "    BELNR WAERS BUKRS KTOSL PRCTR BSCHL HKONT       DMBTR       WRBTR    label\n",
       "0  288203    C3   C31    C9   C92    A3    B1   280979.60        0.00  regular\n",
       "1  324441    C1   C18    C7   C76    A1    B2   129856.53   243343.00  regular\n",
       "2  133537    C1   C19    C2   C20    A1    B3   957463.97  3183838.41  regular\n",
       "3  331521    C4   C48    C9   C95    A2    B1  2681709.51    28778.00  regular\n",
       "4  375333    C5   C58    C1   C19    A3    B1   910514.49      346.00  regular\n",
       "5  327203    C1   C15    C6   C68    A1    B2   357627.56   704520.00  regular\n",
       "6  292545    C4   C47    C2   C28    A2    B3   955576.84   128328.00  regular\n",
       "7  335839    C1   C19    C1   C17    A1    B1    41769.26        0.00  regular\n",
       "8  369064    C4   C40    C9   C97    A2    B1    44309.79        0.00  regular\n",
       "9  138724    C6   C69    C1   C12    A2    B1   466720.45    43843.00  regular"
      ]
     },
     "execution_count": 6,
     "metadata": {},
     "output_type": "execute_result"
    }
   ],
   "source": [
    "# inspect top rows of dataset\n",
    "ori_dataset.head(10) "
   ]
  },
  {
   "cell_type": "markdown",
   "metadata": {},
   "source": [
    "The attribute `label` in the data is of key importance. I shall use this field throughout the experiment to evaluate the quality of my trained models. The field describes the true nature of each individual transaction of either being a **regular** transaction (denoted by `regular`) or an **anomaly** (denoted by `global` and `local`). \n",
    "\n",
    "Let's have closer look into the distribution of the regular vs. anomalous transactions in the dataset:"
   ]
  },
  {
   "cell_type": "markdown",
   "metadata": {},
   "source": [
    "### Anomaly Distribution "
   ]
  },
  {
   "cell_type": "code",
   "execution_count": 7,
   "metadata": {},
   "outputs": [
    {
     "data": {
      "text/plain": [
       "regular    532909\n",
       "global         70\n",
       "local          30\n",
       "Name: label, dtype: int64"
      ]
     },
     "execution_count": 7,
     "metadata": {},
     "output_type": "execute_result"
    }
   ],
   "source": [
    "# number of anomalies vs. regular transactions\n",
    "ori_dataset.label.value_counts()"
   ]
  },
  {
   "cell_type": "code",
   "execution_count": 8,
   "metadata": {},
   "outputs": [
    {
     "data": {
      "text/plain": [
       "<AxesSubplot:xlabel='label', ylabel='count'>"
      ]
     },
     "execution_count": 8,
     "metadata": {},
     "output_type": "execute_result"
    },
    {
     "data": {
      "image/png": "[encoded data removed]",
      "text/plain": [
       "<Figure size 432x288 with 1 Axes>"
      ]
     },
     "metadata": {
      "needs_background": "light"
     },
     "output_type": "display_data"
    }
   ],
   "source": [
    "sns.countplot(x=ori_dataset[\"label\"], data=ori_dataset)"
   ]
  },
  {
   "cell_type": "markdown",
   "metadata": {},
   "source": [
    "This statistic reveals that, similar to real world scenarios, we are facing a highly \"unbalanced\" dataset. Overall, the dataset contains only a small fraction of **100 (0.018%)** anomalous transactions. While the 100 anomalous entries encompass **70 (0.013%)** \"global\" anomalies and **30 (0.005%)** \"local\" anomalies."
   ]
  },
  {
   "cell_type": "code",
   "execution_count": 9,
   "metadata": {},
   "outputs": [],
   "source": [
    "# remove the \"ground-truth\" label information for the following steps of the lab\n",
    "label = ori_dataset.pop('label')"
   ]
  },
  {
   "cell_type": "markdown",
   "metadata": {},
   "source": [
    "### Pre-Processing of Categorical Transaction Attributes"
   ]
  },
  {
   "cell_type": "markdown",
   "metadata": {},
   "source": [
    "From the initial data assessment above we can observe that the majority of attributes recorded in AIS- and ERP-systems correspond to categorical (discrete) attribute values, e.g. the posting date, the general-ledger account, the posting type, the currency. Let's have a more detailed look into the distribution of two dataset attributes, namely (1) the posting key `BSCHL` as well as (2) the general ledger account `HKONT`:"
   ]
  },
  {
   "cell_type": "code",
   "execution_count": 10,
   "metadata": {},
   "outputs": [
    {
     "data": {
      "text/plain": [
       "Text(0.5, 1.0, 'Distribution of HKONT attribute values')"
      ]
     },
     "execution_count": 10,
     "metadata": {},
     "output_type": "execute_result"
    },
    {
     "data": {
      "image/png": "[encoded data removed]",
      "text/plain": [
       "<Figure size 1440x288 with 2 Axes>"
      ]
     },
     "metadata": {
      "needs_background": "light"
     },
     "output_type": "display_data"
    }
   ],
   "source": [
    "# prepare to plot posting key and general ledger account side by side\n",
    "fig, ax = plt.subplots(1,2)\n",
    "fig.set_figwidth(20)\n",
    "\n",
    "# plot the distribution of the posting key attribute\n",
    "g = sns.countplot(x=ori_dataset['BSCHL'], ax=ax[0])\n",
    "g.set_xticklabels(g.get_xticklabels(), rotation=90)\n",
    "g.set_title('Distribution of BSCHL attribute values')\n",
    "\n",
    "# plot the distribution of the general ledger account attribute\n",
    "g = sns.countplot(x=ori_dataset['HKONT'], ax=ax[1])\n",
    "g.set_xticklabels(g.get_xticklabels(), rotation=90)\n",
    "g.set_title('Distribution of HKONT attribute values')"
   ]
  },
  {
   "cell_type": "markdown",
   "metadata": {},
   "source": [
    "The Isolation Forest Algorithm is not designed to be trained directly on categorical data and require the attributes to be trained on to be numeric. One simple way to meet this requirement is by applying a technique referred to as **\"one-hot\" encoding**. Using this encoding technique, I shall derive a numerical representation of each of the categorical attribute values. One-hot encoding creates new binary columns for each categorical attribute value present in the original data. This can be achieved using the `get_dummies()` function available in the Pandas data science library:  "
   ]
  },
  {
   "cell_type": "code",
   "execution_count": 11,
   "metadata": {},
   "outputs": [],
   "source": [
    "# select categorical attributes to be \"one-hot\" encoded\n",
    "categorical_attr_names = ['KTOSL', 'PRCTR', 'BSCHL', 'HKONT', 'WAERS', 'BUKRS']\n",
    "\n",
    "# encode categorical attributes into a binary one-hot encoded representation \n",
    "ori_dataset_categ_transformed = pd.get_dummies(ori_dataset[categorical_attr_names])"
   ]
  },
  {
   "cell_type": "markdown",
   "metadata": {},
   "source": [
    "## Encoded Transactions"
   ]
  },
  {
   "cell_type": "code",
   "execution_count": 12,
   "metadata": {},
   "outputs": [
    {
     "data": {
      "text/html": [
       "<div>\n",
       "<style scoped>\n",
       "    .dataframe tbody tr th:only-of-type {\n",
       "        vertical-align: middle;\n",
       "    }\n",
       "\n",
       "    .dataframe tbody tr th {\n",
       "        vertical-align: top;\n",
       "    }\n",
       "\n",
       "    .dataframe thead th {\n",
       "        text-align: right;\n",
       "    }\n",
       "</style>\n",
       "<table border=\"1\" class=\"dataframe\">\n",
       "  <thead>\n",
       "    <tr style=\"text-align: right;\">\n",
       "      <th></th>\n",
       "      <th>KTOSL_A19</th>\n",
       "      <th>KTOSL_B06</th>\n",
       "      <th>KTOSL_B12</th>\n",
       "      <th>KTOSL_B83</th>\n",
       "      <th>KTOSL_C1</th>\n",
       "      <th>KTOSL_C2</th>\n",
       "      <th>KTOSL_C3</th>\n",
       "      <th>KTOSL_C39</th>\n",
       "      <th>KTOSL_C4</th>\n",
       "      <th>KTOSL_C5</th>\n",
       "      <th>...</th>\n",
       "      <th>BUKRS_W67</th>\n",
       "      <th>BUKRS_W69</th>\n",
       "      <th>BUKRS_W71</th>\n",
       "      <th>BUKRS_W77</th>\n",
       "      <th>BUKRS_W86</th>\n",
       "      <th>BUKRS_X34</th>\n",
       "      <th>BUKRS_Y41</th>\n",
       "      <th>BUKRS_Y63</th>\n",
       "      <th>BUKRS_Z78</th>\n",
       "      <th>BUKRS_Z98</th>\n",
       "    </tr>\n",
       "  </thead>\n",
       "  <tbody>\n",
       "    <tr>\n",
       "      <th>0</th>\n",
       "      <td>0</td>\n",
       "      <td>0</td>\n",
       "      <td>0</td>\n",
       "      <td>0</td>\n",
       "      <td>0</td>\n",
       "      <td>0</td>\n",
       "      <td>0</td>\n",
       "      <td>0</td>\n",
       "      <td>0</td>\n",
       "      <td>0</td>\n",
       "      <td>...</td>\n",
       "      <td>0</td>\n",
       "      <td>0</td>\n",
       "      <td>0</td>\n",
       "      <td>0</td>\n",
       "      <td>0</td>\n",
       "      <td>0</td>\n",
       "      <td>0</td>\n",
       "      <td>0</td>\n",
       "      <td>0</td>\n",
       "      <td>0</td>\n",
       "    </tr>\n",
       "    <tr>\n",
       "      <th>1</th>\n",
       "      <td>0</td>\n",
       "      <td>0</td>\n",
       "      <td>0</td>\n",
       "      <td>0</td>\n",
       "      <td>0</td>\n",
       "      <td>0</td>\n",
       "      <td>0</td>\n",
       "      <td>0</td>\n",
       "      <td>0</td>\n",
       "      <td>0</td>\n",
       "      <td>...</td>\n",
       "      <td>0</td>\n",
       "      <td>0</td>\n",
       "      <td>0</td>\n",
       "      <td>0</td>\n",
       "      <td>0</td>\n",
       "      <td>0</td>\n",
       "      <td>0</td>\n",
       "      <td>0</td>\n",
       "      <td>0</td>\n",
       "      <td>0</td>\n",
       "    </tr>\n",
       "    <tr>\n",
       "      <th>2</th>\n",
       "      <td>0</td>\n",
       "      <td>0</td>\n",
       "      <td>0</td>\n",
       "      <td>0</td>\n",
       "      <td>0</td>\n",
       "      <td>1</td>\n",
       "      <td>0</td>\n",
       "      <td>0</td>\n",
       "      <td>0</td>\n",
       "      <td>0</td>\n",
       "      <td>...</td>\n",
       "      <td>0</td>\n",
       "      <td>0</td>\n",
       "      <td>0</td>\n",
       "      <td>0</td>\n",
       "      <td>0</td>\n",
       "      <td>0</td>\n",
       "      <td>0</td>\n",
       "      <td>0</td>\n",
       "      <td>0</td>\n",
       "      <td>0</td>\n",
       "    </tr>\n",
       "    <tr>\n",
       "      <th>3</th>\n",
       "      <td>0</td>\n",
       "      <td>0</td>\n",
       "      <td>0</td>\n",
       "      <td>0</td>\n",
       "      <td>0</td>\n",
       "      <td>0</td>\n",
       "      <td>0</td>\n",
       "      <td>0</td>\n",
       "      <td>0</td>\n",
       "      <td>0</td>\n",
       "      <td>...</td>\n",
       "      <td>0</td>\n",
       "      <td>0</td>\n",
       "      <td>0</td>\n",
       "      <td>0</td>\n",
       "      <td>0</td>\n",
       "      <td>0</td>\n",
       "      <td>0</td>\n",
       "      <td>0</td>\n",
       "      <td>0</td>\n",
       "      <td>0</td>\n",
       "    </tr>\n",
       "    <tr>\n",
       "      <th>4</th>\n",
       "      <td>0</td>\n",
       "      <td>0</td>\n",
       "      <td>0</td>\n",
       "      <td>0</td>\n",
       "      <td>1</td>\n",
       "      <td>0</td>\n",
       "      <td>0</td>\n",
       "      <td>0</td>\n",
       "      <td>0</td>\n",
       "      <td>0</td>\n",
       "      <td>...</td>\n",
       "      <td>0</td>\n",
       "      <td>0</td>\n",
       "      <td>0</td>\n",
       "      <td>0</td>\n",
       "      <td>0</td>\n",
       "      <td>0</td>\n",
       "      <td>0</td>\n",
       "      <td>0</td>\n",
       "      <td>0</td>\n",
       "      <td>0</td>\n",
       "    </tr>\n",
       "    <tr>\n",
       "      <th>5</th>\n",
       "      <td>0</td>\n",
       "      <td>0</td>\n",
       "      <td>0</td>\n",
       "      <td>0</td>\n",
       "      <td>0</td>\n",
       "      <td>0</td>\n",
       "      <td>0</td>\n",
       "      <td>0</td>\n",
       "      <td>0</td>\n",
       "      <td>0</td>\n",
       "      <td>...</td>\n",
       "      <td>0</td>\n",
       "      <td>0</td>\n",
       "      <td>0</td>\n",
       "      <td>0</td>\n",
       "      <td>0</td>\n",
       "      <td>0</td>\n",
       "      <td>0</td>\n",
       "      <td>0</td>\n",
       "      <td>0</td>\n",
       "      <td>0</td>\n",
       "    </tr>\n",
       "    <tr>\n",
       "      <th>6</th>\n",
       "      <td>0</td>\n",
       "      <td>0</td>\n",
       "      <td>0</td>\n",
       "      <td>0</td>\n",
       "      <td>0</td>\n",
       "      <td>1</td>\n",
       "      <td>0</td>\n",
       "      <td>0</td>\n",
       "      <td>0</td>\n",
       "      <td>0</td>\n",
       "      <td>...</td>\n",
       "      <td>0</td>\n",
       "      <td>0</td>\n",
       "      <td>0</td>\n",
       "      <td>0</td>\n",
       "      <td>0</td>\n",
       "      <td>0</td>\n",
       "      <td>0</td>\n",
       "      <td>0</td>\n",
       "      <td>0</td>\n",
       "      <td>0</td>\n",
       "    </tr>\n",
       "    <tr>\n",
       "      <th>7</th>\n",
       "      <td>0</td>\n",
       "      <td>0</td>\n",
       "      <td>0</td>\n",
       "      <td>0</td>\n",
       "      <td>1</td>\n",
       "      <td>0</td>\n",
       "      <td>0</td>\n",
       "      <td>0</td>\n",
       "      <td>0</td>\n",
       "      <td>0</td>\n",
       "      <td>...</td>\n",
       "      <td>0</td>\n",
       "      <td>0</td>\n",
       "      <td>0</td>\n",
       "      <td>0</td>\n",
       "      <td>0</td>\n",
       "      <td>0</td>\n",
       "      <td>0</td>\n",
       "      <td>0</td>\n",
       "      <td>0</td>\n",
       "      <td>0</td>\n",
       "    </tr>\n",
       "    <tr>\n",
       "      <th>8</th>\n",
       "      <td>0</td>\n",
       "      <td>0</td>\n",
       "      <td>0</td>\n",
       "      <td>0</td>\n",
       "      <td>0</td>\n",
       "      <td>0</td>\n",
       "      <td>0</td>\n",
       "      <td>0</td>\n",
       "      <td>0</td>\n",
       "      <td>0</td>\n",
       "      <td>...</td>\n",
       "      <td>0</td>\n",
       "      <td>0</td>\n",
       "      <td>0</td>\n",
       "      <td>0</td>\n",
       "      <td>0</td>\n",
       "      <td>0</td>\n",
       "      <td>0</td>\n",
       "      <td>0</td>\n",
       "      <td>0</td>\n",
       "      <td>0</td>\n",
       "    </tr>\n",
       "    <tr>\n",
       "      <th>9</th>\n",
       "      <td>0</td>\n",
       "      <td>0</td>\n",
       "      <td>0</td>\n",
       "      <td>0</td>\n",
       "      <td>1</td>\n",
       "      <td>0</td>\n",
       "      <td>0</td>\n",
       "      <td>0</td>\n",
       "      <td>0</td>\n",
       "      <td>0</td>\n",
       "      <td>...</td>\n",
       "      <td>0</td>\n",
       "      <td>0</td>\n",
       "      <td>0</td>\n",
       "      <td>0</td>\n",
       "      <td>0</td>\n",
       "      <td>0</td>\n",
       "      <td>0</td>\n",
       "      <td>0</td>\n",
       "      <td>0</td>\n",
       "      <td>0</td>\n",
       "    </tr>\n",
       "  </tbody>\n",
       "</table>\n",
       "<p>10 rows × 616 columns</p>\n",
       "</div>"
      ],
      "text/plain": [
       "   KTOSL_A19  KTOSL_B06  KTOSL_B12  KTOSL_B83  KTOSL_C1  KTOSL_C2  KTOSL_C3  \\\n",
       "0          0          0          0          0         0         0         0   \n",
       "1          0          0          0          0         0         0         0   \n",
       "2          0          0          0          0         0         1         0   \n",
       "3          0          0          0          0         0         0         0   \n",
       "4          0          0          0          0         1         0         0   \n",
       "5          0          0          0          0         0         0         0   \n",
       "6          0          0          0          0         0         1         0   \n",
       "7          0          0          0          0         1         0         0   \n",
       "8          0          0          0          0         0         0         0   \n",
       "9          0          0          0          0         1         0         0   \n",
       "\n",
       "   KTOSL_C39  KTOSL_C4  KTOSL_C5  ...  BUKRS_W67  BUKRS_W69  BUKRS_W71  \\\n",
       "0          0         0         0  ...          0          0          0   \n",
       "1          0         0         0  ...          0          0          0   \n",
       "2          0         0         0  ...          0          0          0   \n",
       "3          0         0         0  ...          0          0          0   \n",
       "4          0         0         0  ...          0          0          0   \n",
       "5          0         0         0  ...          0          0          0   \n",
       "6          0         0         0  ...          0          0          0   \n",
       "7          0         0         0  ...          0          0          0   \n",
       "8          0         0         0  ...          0          0          0   \n",
       "9          0         0         0  ...          0          0          0   \n",
       "\n",
       "   BUKRS_W77  BUKRS_W86  BUKRS_X34  BUKRS_Y41  BUKRS_Y63  BUKRS_Z78  BUKRS_Z98  \n",
       "0          0          0          0          0          0          0          0  \n",
       "1          0          0          0          0          0          0          0  \n",
       "2          0          0          0          0          0          0          0  \n",
       "3          0          0          0          0          0          0          0  \n",
       "4          0          0          0          0          0          0          0  \n",
       "5          0          0          0          0          0          0          0  \n",
       "6          0          0          0          0          0          0          0  \n",
       "7          0          0          0          0          0          0          0  \n",
       "8          0          0          0          0          0          0          0  \n",
       "9          0          0          0          0          0          0          0  \n",
       "\n",
       "[10 rows x 616 columns]"
      ]
     },
     "execution_count": 12,
     "metadata": {},
     "output_type": "execute_result"
    }
   ],
   "source": [
    "# inspect encoded sample transactions\n",
    "ori_dataset_categ_transformed.head(10)"
   ]
  },
  {
   "cell_type": "markdown",
   "metadata": {},
   "source": [
    "### Pre-Processing of Numerical Transaction Attributes"
   ]
  },
  {
   "cell_type": "markdown",
   "metadata": {},
   "source": [
    "Let's now inspect the distributions of the two numerical attributes contained in the transactional dataset namely, the (1) local currency amount `DMBTR` and the (2) document currency amount `WRBTR`:"
   ]
  },
  {
   "cell_type": "code",
   "execution_count": 13,
   "metadata": {},
   "outputs": [
    {
     "data": {
      "text/plain": [
       "Text(0.5, 1.0, 'Distribution of WRBTR amount values')"
      ]
     },
     "execution_count": 13,
     "metadata": {},
     "output_type": "execute_result"
    },
    {
     "data": {
      "image/png": "[encoded data removed]",
      "text/plain": [
       "<Figure size 1440x288 with 2 Axes>"
      ]
     },
     "metadata": {
      "needs_background": "light"
     },
     "output_type": "display_data"
    }
   ],
   "source": [
    "# plot the log-scaled \"DMBTR\" as well as the \"WRBTR\" attribute value distribution\n",
    "fig, ax = plt.subplots(1,2)\n",
    "fig.set_figwidth(20)\n",
    "\n",
    "# plot distribution of the local amount attribute\n",
    "g = sns.distplot(ori_dataset['DMBTR'].tolist(), ax=ax[0])\n",
    "g.set_title('Distribution of DMBTR amount values')\n",
    "\n",
    "# plot distribution of the document amount attribute\n",
    "g = sns.distplot(ori_dataset['WRBTR'].tolist(), ax=ax[1])\n",
    "g.set_title('Distribution of WRBTR amount values')"
   ]
  },
  {
   "cell_type": "markdown",
   "metadata": {},
   "source": [
    "As expected, it can be observed, that for both attributes the distributions of amount values are heavy tailed. In order to approach faster a potential global minimum scaling and normalization of numerical input values is good a practice. Therefore, I first log-scaled both variables and second min-max normalize the scaled amounts to the interval [0, 1]."
   ]
  },
  {
   "cell_type": "code",
   "execution_count": 14,
   "metadata": {},
   "outputs": [],
   "source": [
    "# select \"DMBTR\" vs. \"WRBTR\" attribute\n",
    "numeric_attr_names = ['DMBTR', 'WRBTR']\n",
    "\n",
    "# add a small epsilon to eliminate zero values from data for log scaling\n",
    "numeric_attr = ori_dataset[numeric_attr_names] + 1e-7\n",
    "numeric_attr = numeric_attr.apply(np.log)\n",
    "\n",
    "# normalize all numeric attributes to the range [0,1]\n",
    "ori_dataset_numeric_attr = (numeric_attr - numeric_attr.min()) / (numeric_attr.max() - numeric_attr.min())"
   ]
  },
  {
   "cell_type": "markdown",
   "metadata": {},
   "source": [
    "## Visualization of the log-scaled and mini-max normalized distributions of both attributes"
   ]
  },
  {
   "cell_type": "code",
   "execution_count": 15,
   "metadata": {},
   "outputs": [
    {
     "data": {
      "image/png": "[encoded data removed]",
      "text/plain": [
       "<Figure size 1080x360 with 6 Axes>"
      ]
     },
     "metadata": {
      "needs_background": "light"
     },
     "output_type": "display_data"
    }
   ],
   "source": [
    "# append 'label' attribute for colour distinction\n",
    "numeric_attr_vis = ori_dataset_numeric_attr.copy()\n",
    "numeric_attr_vis['label'] = label\n",
    "\n",
    "# plot the log-scaled and min-max normalized numeric attributes\n",
    "g = sns.pairplot(data=numeric_attr_vis, vars=numeric_attr_names, hue='label')\n",
    "g.fig.suptitle('Distribution of DMBTR vs. WRBTR amount values')\n",
    "g.fig.set_size_inches(15, 5)"
   ]
  },
  {
   "cell_type": "markdown",
   "metadata": {},
   "source": [
    "As anticipated the numeric attribute values of the \"global\" anomalies (green) fall outside the range of the regular amount distributions due to their unusual high amount values. In contrast, the numeric attribute values of the \"local\" anomalies (orange) are much more intertwined within the regular transaction amounts."
   ]
  },
  {
   "cell_type": "markdown",
   "metadata": {},
   "source": [
    "### Merge Categorical and Numerical Transaction Attributes"
   ]
  },
  {
   "cell_type": "markdown",
   "metadata": {},
   "source": [
    "Finally, I merged both pre-processed numerical and categorical attributes into a single dataset that we will use for training my Isolation Forest model."
   ]
  },
  {
   "cell_type": "code",
   "execution_count": 16,
   "metadata": {},
   "outputs": [],
   "source": [
    "# merge categorical and numeric subsets\n",
    "ori_subset_transformed = pd.concat([ori_dataset_categ_transformed, ori_dataset_numeric_attr], axis = 1)"
   ]
  },
  {
   "cell_type": "markdown",
   "metadata": {},
   "source": [
    "Let us have a look at the dimensionality of the dataset after we applied the distinct pre-processing steps to the attributes:"
   ]
  },
  {
   "cell_type": "code",
   "execution_count": 17,
   "metadata": {},
   "outputs": [
    {
     "data": {
      "text/plain": [
       "(533009, 618)"
      ]
     },
     "execution_count": 17,
     "metadata": {},
     "output_type": "execute_result"
    }
   ],
   "source": [
    "# inspect final dimensions of pre-processed transactional data\n",
    "ori_subset_transformed.shape"
   ]
  },
  {
   "cell_type": "markdown",
   "metadata": {},
   "source": [
    "Ok, upon completion of all the pre-processing steps (incl. the exercises) I ended up with an encoded dataset consisting of a total number of 533,009 records (rows) and **618 encoded attributes** (columns)."
   ]
  },
  {
   "cell_type": "code",
   "execution_count": 18,
   "metadata": {},
   "outputs": [],
   "source": [
    "# Splitting the dataset\n",
    "X = ori_subset_transformed\n",
    "labels = label.replace(['regular','local','global'],[0,1,1])\n",
    "y = labels\n",
    "X_train, X_test, y_train, y_test = train_test_split(X, y, test_size=0.3, random_state=42)"
   ]
  },
  {
   "cell_type": "markdown",
   "metadata": {},
   "source": [
    "# Apply PCA First"
   ]
  },
  {
   "cell_type": "code",
   "execution_count": 19,
   "metadata": {},
   "outputs": [
    {
     "name": "stdout",
     "output_type": "stream",
     "text": [
      "(373106, 144)\n"
     ]
    }
   ],
   "source": [
    "from sklearn.decomposition import PCA\n",
    "components = 0.96\n",
    "pca_96 = PCA(n_components=components, random_state=2022)\n",
    "pca_96.fit(X_train)\n",
    "X_pca_96 = pca_96.transform(X_train)\n",
    "print(X_pca_96.shape)"
   ]
  },
  {
   "cell_type": "code",
   "execution_count": 20,
   "metadata": {},
   "outputs": [
    {
     "name": "stdout",
     "output_type": "stream",
     "text": [
      "(373106, 144)\n"
     ]
    }
   ],
   "source": [
    "X_dt = pd.DataFrame(X_pca_96, index=X_train.index)\n",
    "print(X_dt.shape)"
   ]
  },
  {
   "cell_type": "markdown",
   "metadata": {},
   "source": [
    "### Isolation Forest Algorithm "
   ]
  },
  {
   "cell_type": "code",
   "execution_count": 21,
   "metadata": {},
   "outputs": [
    {
     "data": {
      "text/plain": [
       "IsolationForest(contamination=0.00018, max_samples=373106, n_estimators=150,\n",
       "                n_jobs=-1, random_state=40)"
      ]
     },
     "execution_count": 21,
     "metadata": {},
     "output_type": "execute_result"
    }
   ],
   "source": [
    "#%%timeit\n",
    "from sklearn.metrics import roc_auc_score\n",
    "from sklearn.metrics import confusion_matrix, precision_recall_fscore_support, classification_report\n",
    "estimators = 150\n",
    "maximum_features = 1.0\n",
    "contaminant = 0.00018\n",
    "isf=IsolationForest(n_estimators=estimators, max_samples=len(X_train), contamination=0.00018, \\\n",
    "                        max_features=maximum_features, bootstrap=False, n_jobs=-1, random_state=40, verbose=0)\n",
    "isf.fit(X_train)"
   ]
  },
  {
   "cell_type": "code",
   "execution_count": 22,
   "metadata": {},
   "outputs": [],
   "source": [
    "#scores_prediction = model.decision_function(X_train)\n",
    "# Predictions\n",
    "predictions = isf.predict(X_train)"
   ]
  },
  {
   "cell_type": "code",
   "execution_count": 23,
   "metadata": {},
   "outputs": [
    {
     "name": "stdout",
     "output_type": "stream",
     "text": [
      "373106\n"
     ]
    }
   ],
   "source": [
    "print(len(predictions))"
   ]
  },
  {
   "cell_type": "markdown",
   "metadata": {},
   "source": [
    "# Extract predictions and isolation scores"
   ]
  },
  {
   "cell_type": "code",
   "execution_count": 24,
   "metadata": {},
   "outputs": [
    {
     "name": "stdout",
     "output_type": "stream",
     "text": [
      "(373106, 618)\n"
     ]
    },
    {
     "data": {
      "text/html": [
       "<div>\n",
       "<style scoped>\n",
       "    .dataframe tbody tr th:only-of-type {\n",
       "        vertical-align: middle;\n",
       "    }\n",
       "\n",
       "    .dataframe tbody tr th {\n",
       "        vertical-align: top;\n",
       "    }\n",
       "\n",
       "    .dataframe thead th {\n",
       "        text-align: right;\n",
       "    }\n",
       "</style>\n",
       "<table border=\"1\" class=\"dataframe\">\n",
       "  <thead>\n",
       "    <tr style=\"text-align: right;\">\n",
       "      <th></th>\n",
       "      <th>KTOSL_A19</th>\n",
       "      <th>KTOSL_B06</th>\n",
       "      <th>KTOSL_B12</th>\n",
       "      <th>KTOSL_B83</th>\n",
       "      <th>KTOSL_C1</th>\n",
       "      <th>KTOSL_C2</th>\n",
       "      <th>KTOSL_C3</th>\n",
       "      <th>KTOSL_C39</th>\n",
       "      <th>KTOSL_C4</th>\n",
       "      <th>KTOSL_C5</th>\n",
       "      <th>...</th>\n",
       "      <th>BUKRS_W86</th>\n",
       "      <th>BUKRS_X34</th>\n",
       "      <th>BUKRS_Y41</th>\n",
       "      <th>BUKRS_Y63</th>\n",
       "      <th>BUKRS_Z78</th>\n",
       "      <th>BUKRS_Z98</th>\n",
       "      <th>DMBTR</th>\n",
       "      <th>WRBTR</th>\n",
       "      <th>iso_forest_scores</th>\n",
       "      <th>iso_forest_outliers</th>\n",
       "    </tr>\n",
       "  </thead>\n",
       "  <tbody>\n",
       "    <tr>\n",
       "      <th>count</th>\n",
       "      <td>373106.0</td>\n",
       "      <td>373106.0</td>\n",
       "      <td>373106.0</td>\n",
       "      <td>373106.000000</td>\n",
       "      <td>373106.000000</td>\n",
       "      <td>373106.000000</td>\n",
       "      <td>373106.000000</td>\n",
       "      <td>373106.000000</td>\n",
       "      <td>373106.000000</td>\n",
       "      <td>373106.000000</td>\n",
       "      <td>...</td>\n",
       "      <td>373106.000000</td>\n",
       "      <td>373106.000000</td>\n",
       "      <td>373106.0</td>\n",
       "      <td>373106.000000</td>\n",
       "      <td>373106.000000</td>\n",
       "      <td>373106.000000</td>\n",
       "      <td>373106.000000</td>\n",
       "      <td>373106.000000</td>\n",
       "      <td>373106.000000</td>\n",
       "      <td>373106.000000</td>\n",
       "    </tr>\n",
       "    <tr>\n",
       "      <th>mean</th>\n",
       "      <td>0.0</td>\n",
       "      <td>0.0</td>\n",
       "      <td>0.0</td>\n",
       "      <td>0.000003</td>\n",
       "      <td>0.515950</td>\n",
       "      <td>0.121389</td>\n",
       "      <td>0.050758</td>\n",
       "      <td>0.000003</td>\n",
       "      <td>0.051698</td>\n",
       "      <td>0.051208</td>\n",
       "      <td>...</td>\n",
       "      <td>0.000003</td>\n",
       "      <td>0.000003</td>\n",
       "      <td>0.0</td>\n",
       "      <td>0.000003</td>\n",
       "      <td>0.000003</td>\n",
       "      <td>0.000003</td>\n",
       "      <td>0.691150</td>\n",
       "      <td>0.362006</td>\n",
       "      <td>0.018868</td>\n",
       "      <td>0.999635</td>\n",
       "    </tr>\n",
       "    <tr>\n",
       "      <th>std</th>\n",
       "      <td>0.0</td>\n",
       "      <td>0.0</td>\n",
       "      <td>0.0</td>\n",
       "      <td>0.001637</td>\n",
       "      <td>0.499746</td>\n",
       "      <td>0.326579</td>\n",
       "      <td>0.219503</td>\n",
       "      <td>0.001637</td>\n",
       "      <td>0.221418</td>\n",
       "      <td>0.220422</td>\n",
       "      <td>...</td>\n",
       "      <td>0.001637</td>\n",
       "      <td>0.001637</td>\n",
       "      <td>0.0</td>\n",
       "      <td>0.001637</td>\n",
       "      <td>0.001637</td>\n",
       "      <td>0.001637</td>\n",
       "      <td>0.074986</td>\n",
       "      <td>0.386916</td>\n",
       "      <td>0.004774</td>\n",
       "      <td>0.026998</td>\n",
       "    </tr>\n",
       "    <tr>\n",
       "      <th>min</th>\n",
       "      <td>0.0</td>\n",
       "      <td>0.0</td>\n",
       "      <td>0.0</td>\n",
       "      <td>0.000000</td>\n",
       "      <td>0.000000</td>\n",
       "      <td>0.000000</td>\n",
       "      <td>0.000000</td>\n",
       "      <td>0.000000</td>\n",
       "      <td>0.000000</td>\n",
       "      <td>0.000000</td>\n",
       "      <td>...</td>\n",
       "      <td>0.000000</td>\n",
       "      <td>0.000000</td>\n",
       "      <td>0.0</td>\n",
       "      <td>0.000000</td>\n",
       "      <td>0.000000</td>\n",
       "      <td>0.000000</td>\n",
       "      <td>0.000000</td>\n",
       "      <td>0.000000</td>\n",
       "      <td>-0.068989</td>\n",
       "      <td>-1.000000</td>\n",
       "    </tr>\n",
       "    <tr>\n",
       "      <th>25%</th>\n",
       "      <td>0.0</td>\n",
       "      <td>0.0</td>\n",
       "      <td>0.0</td>\n",
       "      <td>0.000000</td>\n",
       "      <td>0.000000</td>\n",
       "      <td>0.000000</td>\n",
       "      <td>0.000000</td>\n",
       "      <td>0.000000</td>\n",
       "      <td>0.000000</td>\n",
       "      <td>0.000000</td>\n",
       "      <td>...</td>\n",
       "      <td>0.000000</td>\n",
       "      <td>0.000000</td>\n",
       "      <td>0.0</td>\n",
       "      <td>0.000000</td>\n",
       "      <td>0.000000</td>\n",
       "      <td>0.000000</td>\n",
       "      <td>0.651589</td>\n",
       "      <td>0.000000</td>\n",
       "      <td>0.015887</td>\n",
       "      <td>1.000000</td>\n",
       "    </tr>\n",
       "    <tr>\n",
       "      <th>50%</th>\n",
       "      <td>0.0</td>\n",
       "      <td>0.0</td>\n",
       "      <td>0.0</td>\n",
       "      <td>0.000000</td>\n",
       "      <td>1.000000</td>\n",
       "      <td>0.000000</td>\n",
       "      <td>0.000000</td>\n",
       "      <td>0.000000</td>\n",
       "      <td>0.000000</td>\n",
       "      <td>0.000000</td>\n",
       "      <td>...</td>\n",
       "      <td>0.000000</td>\n",
       "      <td>0.000000</td>\n",
       "      <td>0.0</td>\n",
       "      <td>0.000000</td>\n",
       "      <td>0.000000</td>\n",
       "      <td>0.000000</td>\n",
       "      <td>0.698308</td>\n",
       "      <td>0.000000</td>\n",
       "      <td>0.019254</td>\n",
       "      <td>1.000000</td>\n",
       "    </tr>\n",
       "    <tr>\n",
       "      <th>75%</th>\n",
       "      <td>0.0</td>\n",
       "      <td>0.0</td>\n",
       "      <td>0.0</td>\n",
       "      <td>0.000000</td>\n",
       "      <td>1.000000</td>\n",
       "      <td>0.000000</td>\n",
       "      <td>0.000000</td>\n",
       "      <td>0.000000</td>\n",
       "      <td>0.000000</td>\n",
       "      <td>0.000000</td>\n",
       "      <td>...</td>\n",
       "      <td>0.000000</td>\n",
       "      <td>0.000000</td>\n",
       "      <td>0.0</td>\n",
       "      <td>0.000000</td>\n",
       "      <td>0.000000</td>\n",
       "      <td>0.000000</td>\n",
       "      <td>0.738261</td>\n",
       "      <td>0.772949</td>\n",
       "      <td>0.022830</td>\n",
       "      <td>1.000000</td>\n",
       "    </tr>\n",
       "    <tr>\n",
       "      <th>max</th>\n",
       "      <td>0.0</td>\n",
       "      <td>0.0</td>\n",
       "      <td>0.0</td>\n",
       "      <td>1.000000</td>\n",
       "      <td>1.000000</td>\n",
       "      <td>1.000000</td>\n",
       "      <td>1.000000</td>\n",
       "      <td>1.000000</td>\n",
       "      <td>1.000000</td>\n",
       "      <td>1.000000</td>\n",
       "      <td>...</td>\n",
       "      <td>1.000000</td>\n",
       "      <td>1.000000</td>\n",
       "      <td>0.0</td>\n",
       "      <td>1.000000</td>\n",
       "      <td>1.000000</td>\n",
       "      <td>1.000000</td>\n",
       "      <td>1.000000</td>\n",
       "      <td>1.000000</td>\n",
       "      <td>0.027710</td>\n",
       "      <td>1.000000</td>\n",
       "    </tr>\n",
       "  </tbody>\n",
       "</table>\n",
       "<p>8 rows × 620 columns</p>\n",
       "</div>"
      ],
      "text/plain": [
       "       KTOSL_A19  KTOSL_B06  KTOSL_B12      KTOSL_B83       KTOSL_C1  \\\n",
       "count   373106.0   373106.0   373106.0  373106.000000  373106.000000   \n",
       "mean         0.0        0.0        0.0       0.000003       0.515950   \n",
       "std          0.0        0.0        0.0       0.001637       0.499746   \n",
       "min          0.0        0.0        0.0       0.000000       0.000000   \n",
       "25%          0.0        0.0        0.0       0.000000       0.000000   \n",
       "50%          0.0        0.0        0.0       0.000000       1.000000   \n",
       "75%          0.0        0.0        0.0       0.000000       1.000000   \n",
       "max          0.0        0.0        0.0       1.000000       1.000000   \n",
       "\n",
       "            KTOSL_C2       KTOSL_C3      KTOSL_C39       KTOSL_C4  \\\n",
       "count  373106.000000  373106.000000  373106.000000  373106.000000   \n",
       "mean        0.121389       0.050758       0.000003       0.051698   \n",
       "std         0.326579       0.219503       0.001637       0.221418   \n",
       "min         0.000000       0.000000       0.000000       0.000000   \n",
       "25%         0.000000       0.000000       0.000000       0.000000   \n",
       "50%         0.000000       0.000000       0.000000       0.000000   \n",
       "75%         0.000000       0.000000       0.000000       0.000000   \n",
       "max         1.000000       1.000000       1.000000       1.000000   \n",
       "\n",
       "            KTOSL_C5  ...      BUKRS_W86      BUKRS_X34  BUKRS_Y41  \\\n",
       "count  373106.000000  ...  373106.000000  373106.000000   373106.0   \n",
       "mean        0.051208  ...       0.000003       0.000003        0.0   \n",
       "std         0.220422  ...       0.001637       0.001637        0.0   \n",
       "min         0.000000  ...       0.000000       0.000000        0.0   \n",
       "25%         0.000000  ...       0.000000       0.000000        0.0   \n",
       "50%         0.000000  ...       0.000000       0.000000        0.0   \n",
       "75%         0.000000  ...       0.000000       0.000000        0.0   \n",
       "max         1.000000  ...       1.000000       1.000000        0.0   \n",
       "\n",
       "           BUKRS_Y63      BUKRS_Z78      BUKRS_Z98          DMBTR  \\\n",
       "count  373106.000000  373106.000000  373106.000000  373106.000000   \n",
       "mean        0.000003       0.000003       0.000003       0.691150   \n",
       "std         0.001637       0.001637       0.001637       0.074986   \n",
       "min         0.000000       0.000000       0.000000       0.000000   \n",
       "25%         0.000000       0.000000       0.000000       0.651589   \n",
       "50%         0.000000       0.000000       0.000000       0.698308   \n",
       "75%         0.000000       0.000000       0.000000       0.738261   \n",
       "max         1.000000       1.000000       1.000000       1.000000   \n",
       "\n",
       "               WRBTR  iso_forest_scores  iso_forest_outliers  \n",
       "count  373106.000000      373106.000000        373106.000000  \n",
       "mean        0.362006           0.018868             0.999635  \n",
       "std         0.386916           0.004774             0.026998  \n",
       "min         0.000000          -0.068989            -1.000000  \n",
       "25%         0.000000           0.015887             1.000000  \n",
       "50%         0.000000           0.019254             1.000000  \n",
       "75%         0.772949           0.022830             1.000000  \n",
       "max         1.000000           0.027710             1.000000  \n",
       "\n",
       "[8 rows x 620 columns]"
      ]
     },
     "execution_count": 24,
     "metadata": {},
     "output_type": "execute_result"
    }
   ],
   "source": [
    "# Extract scores\n",
    "X_dt_normal = X_train\n",
    "print(X_dt_normal.shape)\n",
    "X_dt_normal[\"iso_forest_scores\"] = isf.decision_function(X_dt_normal)# Extract predictions\n",
    "X_dt_normal[\"iso_forest_outliers\"] = predictions# Describe the dataframe\n",
    "X_dt_normal.describe()"
   ]
  },
  {
   "cell_type": "code",
   "execution_count": 25,
   "metadata": {},
   "outputs": [
    {
     "data": {
      "text/html": [
       "<div>\n",
       "<style scoped>\n",
       "    .dataframe tbody tr th:only-of-type {\n",
       "        vertical-align: middle;\n",
       "    }\n",
       "\n",
       "    .dataframe tbody tr th {\n",
       "        vertical-align: top;\n",
       "    }\n",
       "\n",
       "    .dataframe thead th {\n",
       "        text-align: right;\n",
       "    }\n",
       "</style>\n",
       "<table border=\"1\" class=\"dataframe\">\n",
       "  <thead>\n",
       "    <tr style=\"text-align: right;\">\n",
       "      <th></th>\n",
       "      <th>KTOSL_A19</th>\n",
       "      <th>KTOSL_B06</th>\n",
       "      <th>KTOSL_B12</th>\n",
       "      <th>KTOSL_B83</th>\n",
       "      <th>KTOSL_C1</th>\n",
       "      <th>KTOSL_C2</th>\n",
       "      <th>KTOSL_C3</th>\n",
       "      <th>KTOSL_C39</th>\n",
       "      <th>KTOSL_C4</th>\n",
       "      <th>KTOSL_C5</th>\n",
       "      <th>...</th>\n",
       "      <th>BUKRS_W86</th>\n",
       "      <th>BUKRS_X34</th>\n",
       "      <th>BUKRS_Y41</th>\n",
       "      <th>BUKRS_Y63</th>\n",
       "      <th>BUKRS_Z78</th>\n",
       "      <th>BUKRS_Z98</th>\n",
       "      <th>DMBTR</th>\n",
       "      <th>WRBTR</th>\n",
       "      <th>iso_forest_scores</th>\n",
       "      <th>iso_forest_outliers</th>\n",
       "    </tr>\n",
       "  </thead>\n",
       "  <tbody>\n",
       "    <tr>\n",
       "      <th>318867</th>\n",
       "      <td>0</td>\n",
       "      <td>0</td>\n",
       "      <td>0</td>\n",
       "      <td>0</td>\n",
       "      <td>0</td>\n",
       "      <td>1</td>\n",
       "      <td>0</td>\n",
       "      <td>0</td>\n",
       "      <td>0</td>\n",
       "      <td>0</td>\n",
       "      <td>...</td>\n",
       "      <td>0</td>\n",
       "      <td>0</td>\n",
       "      <td>0</td>\n",
       "      <td>0</td>\n",
       "      <td>0</td>\n",
       "      <td>0</td>\n",
       "      <td>0.734544</td>\n",
       "      <td>0.000000</td>\n",
       "      <td>0.017053</td>\n",
       "      <td>No</td>\n",
       "    </tr>\n",
       "    <tr>\n",
       "      <th>520356</th>\n",
       "      <td>0</td>\n",
       "      <td>0</td>\n",
       "      <td>0</td>\n",
       "      <td>0</td>\n",
       "      <td>0</td>\n",
       "      <td>1</td>\n",
       "      <td>0</td>\n",
       "      <td>0</td>\n",
       "      <td>0</td>\n",
       "      <td>0</td>\n",
       "      <td>...</td>\n",
       "      <td>0</td>\n",
       "      <td>0</td>\n",
       "      <td>0</td>\n",
       "      <td>0</td>\n",
       "      <td>0</td>\n",
       "      <td>0</td>\n",
       "      <td>0.739291</td>\n",
       "      <td>0.796416</td>\n",
       "      <td>0.016916</td>\n",
       "      <td>No</td>\n",
       "    </tr>\n",
       "    <tr>\n",
       "      <th>84259</th>\n",
       "      <td>0</td>\n",
       "      <td>0</td>\n",
       "      <td>0</td>\n",
       "      <td>0</td>\n",
       "      <td>1</td>\n",
       "      <td>0</td>\n",
       "      <td>0</td>\n",
       "      <td>0</td>\n",
       "      <td>0</td>\n",
       "      <td>0</td>\n",
       "      <td>...</td>\n",
       "      <td>0</td>\n",
       "      <td>0</td>\n",
       "      <td>0</td>\n",
       "      <td>0</td>\n",
       "      <td>0</td>\n",
       "      <td>0</td>\n",
       "      <td>0.667707</td>\n",
       "      <td>0.689865</td>\n",
       "      <td>0.025757</td>\n",
       "      <td>No</td>\n",
       "    </tr>\n",
       "    <tr>\n",
       "      <th>370486</th>\n",
       "      <td>0</td>\n",
       "      <td>0</td>\n",
       "      <td>0</td>\n",
       "      <td>0</td>\n",
       "      <td>0</td>\n",
       "      <td>0</td>\n",
       "      <td>0</td>\n",
       "      <td>0</td>\n",
       "      <td>1</td>\n",
       "      <td>0</td>\n",
       "      <td>...</td>\n",
       "      <td>0</td>\n",
       "      <td>0</td>\n",
       "      <td>0</td>\n",
       "      <td>0</td>\n",
       "      <td>0</td>\n",
       "      <td>0</td>\n",
       "      <td>0.648617</td>\n",
       "      <td>0.000000</td>\n",
       "      <td>0.014606</td>\n",
       "      <td>No</td>\n",
       "    </tr>\n",
       "    <tr>\n",
       "      <th>373233</th>\n",
       "      <td>0</td>\n",
       "      <td>0</td>\n",
       "      <td>0</td>\n",
       "      <td>0</td>\n",
       "      <td>1</td>\n",
       "      <td>0</td>\n",
       "      <td>0</td>\n",
       "      <td>0</td>\n",
       "      <td>0</td>\n",
       "      <td>0</td>\n",
       "      <td>...</td>\n",
       "      <td>0</td>\n",
       "      <td>0</td>\n",
       "      <td>0</td>\n",
       "      <td>0</td>\n",
       "      <td>0</td>\n",
       "      <td>0</td>\n",
       "      <td>0.621480</td>\n",
       "      <td>0.000000</td>\n",
       "      <td>0.024601</td>\n",
       "      <td>No</td>\n",
       "    </tr>\n",
       "  </tbody>\n",
       "</table>\n",
       "<p>5 rows × 620 columns</p>\n",
       "</div>"
      ],
      "text/plain": [
       "        KTOSL_A19  KTOSL_B06  KTOSL_B12  KTOSL_B83  KTOSL_C1  KTOSL_C2  \\\n",
       "318867          0          0          0          0         0         1   \n",
       "520356          0          0          0          0         0         1   \n",
       "84259           0          0          0          0         1         0   \n",
       "370486          0          0          0          0         0         0   \n",
       "373233          0          0          0          0         1         0   \n",
       "\n",
       "        KTOSL_C3  KTOSL_C39  KTOSL_C4  KTOSL_C5  ...  BUKRS_W86  BUKRS_X34  \\\n",
       "318867         0          0         0         0  ...          0          0   \n",
       "520356         0          0         0         0  ...          0          0   \n",
       "84259          0          0         0         0  ...          0          0   \n",
       "370486         0          0         1         0  ...          0          0   \n",
       "373233         0          0         0         0  ...          0          0   \n",
       "\n",
       "        BUKRS_Y41  BUKRS_Y63  BUKRS_Z78  BUKRS_Z98     DMBTR     WRBTR  \\\n",
       "318867          0          0          0          0  0.734544  0.000000   \n",
       "520356          0          0          0          0  0.739291  0.796416   \n",
       "84259           0          0          0          0  0.667707  0.689865   \n",
       "370486          0          0          0          0  0.648617  0.000000   \n",
       "373233          0          0          0          0  0.621480  0.000000   \n",
       "\n",
       "        iso_forest_scores  iso_forest_outliers  \n",
       "318867           0.017053                   No  \n",
       "520356           0.016916                   No  \n",
       "84259            0.025757                   No  \n",
       "370486           0.014606                   No  \n",
       "373233           0.024601                   No  \n",
       "\n",
       "[5 rows x 620 columns]"
      ]
     },
     "execution_count": 25,
     "metadata": {},
     "output_type": "execute_result"
    }
   ],
   "source": [
    "# Replace \"-1\" with \"Yes\" and \"1\" with \"No\"\n",
    "X_dt_normal['iso_forest_outliers'] = X_dt_normal['iso_forest_outliers'].replace([-1, 1], [\"Yes\", \"No\"])# Print the first 5 transactions\n",
    "X_dt_normal.head()"
   ]
  },
  {
   "cell_type": "code",
   "execution_count": 26,
   "metadata": {},
   "outputs": [
    {
     "data": {
      "text/plain": [
       "No     373038\n",
       "Yes        68\n",
       "Name: iso_forest_outliers, dtype: int64"
      ]
     },
     "execution_count": 26,
     "metadata": {},
     "output_type": "execute_result"
    }
   ],
   "source": [
    "X_dt_normal.iso_forest_outliers.value_counts()"
   ]
  },
  {
   "cell_type": "markdown",
   "metadata": {},
   "source": [
    "# Training Evaluation "
   ]
  },
  {
   "cell_type": "code",
   "execution_count": 32,
   "metadata": {},
   "outputs": [
    {
     "name": "stdout",
     "output_type": "stream",
     "text": [
      "0    373038\n",
      "1        68\n",
      "Name: fraud, dtype: int64\n",
      "              precision    recall  f1-score   support\n",
      "\n",
      "           0       1.00      1.00      1.00    373029\n",
      "           1       0.81      0.71      0.76        77\n",
      "\n",
      "    accuracy                           1.00    373106\n",
      "   macro avg       0.90      0.86      0.88    373106\n",
      "weighted avg       1.00      1.00      1.00    373106\n",
      "\n",
      "Rate of transations to investigate: 0.01822538367112831 %\n"
     ]
    }
   ],
   "source": [
    "from sklearn.metrics import mean_squared_error, classification_report, accuracy_score\n",
    "anomaly_scores = pd.DataFrame(predictions, index=X_train.index, columns=['anomaly_score'])\n",
    "anomaly_scores_idx = anomaly_scores[(anomaly_scores== -1)].dropna().index\n",
    "pred = pd.DataFrame(index=X_train.index)\n",
    "pred['fraud'] = 0\n",
    "for x in anomaly_scores_idx:\n",
    "    pred['fraud'].loc[x] = 1\n",
    "    \n",
    "print(pred.fraud.value_counts())\n",
    "print(classification_report(y_train, pred['fraud']))\n",
    "print('Rate of transations to investigate:', len(anomaly_scores_idx) / len(X_train) * 100, '%')\n",
    "#print(anomaly_scores_idx)"
   ]
  },
  {
   "cell_type": "markdown",
   "metadata": {},
   "source": [
    "## Report Visualization"
   ]
  },
  {
   "cell_type": "code",
   "execution_count": 33,
   "metadata": {},
   "outputs": [
    {
     "data": {
      "text/plain": [
       "<AxesSubplot:>"
      ]
     },
     "execution_count": 33,
     "metadata": {},
     "output_type": "execute_result"
    },
    {
     "data": {
      "image/png": "[encoded data removed]",
      "text/plain": [
       "<Figure size 432x288 with 2 Axes>"
      ]
     },
     "metadata": {
      "needs_background": "light"
     },
     "output_type": "display_data"
    }
   ],
   "source": [
    "sns.heatmap(confusion_matrix(y_train, pred['fraud']), annot = True)"
   ]
  },
  {
   "cell_type": "markdown",
   "metadata": {},
   "source": [
    "> - Accuracy : 99%\n",
    "> - Precision: 81%\n",
    "> - Recall : 71%\n",
    "> - F1 Score: 76%"
   ]
  },
  {
   "cell_type": "markdown",
   "metadata": {},
   "source": [
    "# Testing Evaluation"
   ]
  },
  {
   "cell_type": "code",
   "execution_count": 35,
   "metadata": {},
   "outputs": [
    {
     "name": "stdout",
     "output_type": "stream",
     "text": [
      "Int64Index([445659, 363813, 355842,  48585, 112020, 377480,   3228, 357945,\n",
      "             58274, 182847, 456721],\n",
      "           dtype='int64')\n",
      "0    159892\n",
      "1        11\n",
      "Name: fraud, dtype: int64\n",
      "              precision    recall  f1-score   support\n",
      "\n",
      "           0       1.00      1.00      1.00    159880\n",
      "           1       0.00      0.00      0.00        23\n",
      "\n",
      "    accuracy                           1.00    159903\n",
      "   macro avg       0.50      0.50      0.50    159903\n",
      "weighted avg       1.00      1.00      1.00    159903\n",
      "\n",
      "Rate of transations to investigate: 0.006879170497113876 %\n"
     ]
    }
   ],
   "source": [
    "#test predictions\n",
    "test_predictions = isf.predict(X_test)\n",
    "\n",
    "test_scores = pd.DataFrame(test_predictions, index=X_test.index, columns=['test_score'])\n",
    "test_scores_idx = test_scores[(test_scores== -1)].dropna().index\n",
    "print((test_scores_idx))\n",
    "pred = pd.DataFrame(index=X_test.index)\n",
    "pred['fraud'] = 0\n",
    "for x in test_scores_idx:\n",
    "    pred['fraud'].loc[x] = 1\n",
    "    \n",
    "print(pred.fraud.value_counts())\n",
    "print(classification_report(y_test, pred['fraud']))\n",
    "print('Rate of transations to investigate:', len(test_scores_idx) / len(X_test) * 100, '%')"
   ]
  },
  {
   "cell_type": "markdown",
   "metadata": {},
   "source": [
    "## Report Visualization "
   ]
  },
  {
   "cell_type": "code",
   "execution_count": 36,
   "metadata": {},
   "outputs": [
    {
     "data": {
      "text/plain": [
       "<AxesSubplot:>"
      ]
     },
     "execution_count": 36,
     "metadata": {},
     "output_type": "execute_result"
    },
    {
     "data": {
      "image/png": "[encoded data removed]",
      "text/plain": [
       "<Figure size 432x288 with 2 Axes>"
      ]
     },
     "metadata": {
      "needs_background": "light"
     },
     "output_type": "display_data"
    }
   ],
   "source": [
    "sns.heatmap(confusion_matrix(y_test, pred['fraud']), annot = True)"
   ]
  },
  {
   "cell_type": "markdown",
   "metadata": {},
   "source": [
    "> - Accuracy : 99%\n",
    "> - Precision: 0%\n",
    "> - Recall : 0%\n",
    "> - F1 Score: 0%"
   ]
  },
  {
   "cell_type": "code",
   "execution_count": null,
   "metadata": {},
   "outputs": [],
   "source": []
  }
 ],
 "metadata": {
  "kernelspec": {
   "display_name": "Python 3.10.2 64-bit",
   "language": "python",
   "name": "python3"
  },
  "language_info": {
   "codemirror_mode": {
    "name": "ipython",
    "version": 3
   },
   "file_extension": ".py",
   "mimetype": "text/x-python",
   "name": "python",
   "nbconvert_exporter": "python",
   "pygments_lexer": "ipython3",
   "version": "3.10.2"
  },
  "vscode": {
   "interpreter": {
    "hash": "369f2c481f4da34e4445cda3fffd2e751bd1c4d706f27375911949ba6bb62e1c"
   }
  }
 },
 "nbformat": 4,
 "nbformat_minor": 2
}
