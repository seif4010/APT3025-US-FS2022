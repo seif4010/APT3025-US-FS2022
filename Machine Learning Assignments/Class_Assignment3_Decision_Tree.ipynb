{
 "cells": [
  {
   "cell_type": "markdown",
   "id": "f1eac651",
   "metadata": {},
   "source": [
    "# Assignment 3\n",
    "# Group Members \n",
    "# Yussuf Seifudin 660411\n",
    "# Kamau John 658561"
   ]
  },
  {
   "cell_type": "code",
   "execution_count": 4,
   "id": "a84595dd",
   "metadata": {},
   "outputs": [],
   "source": [
    "import pandas as pd\n",
    "import numpy as np"
   ]
  },
  {
   "cell_type": "code",
   "execution_count": 2,
   "id": "e6339d5b",
   "metadata": {},
   "outputs": [],
   "source": [
    "diabetes_data = pd.read_csv(\"C:\\\\Users\\DELL\\Downloads\\dwn\\diabetes.csv\")"
   ]
  },
  {
   "cell_type": "markdown",
   "id": "4d4d876a",
   "metadata": {},
   "source": [
    "# Data Cleaning by converting 0's to null values"
   ]
  },
  {
   "cell_type": "code",
   "execution_count": 5,
   "id": "7d01849c",
   "metadata": {},
   "outputs": [],
   "source": [
    "columns = ['Glucose', 'BloodPressure', 'SkinThickness', 'Insulin', 'BMI']\n",
    "diabetes_data[columns] = diabetes_data[columns].replace({0:np.nan})"
   ]
  },
  {
   "cell_type": "code",
   "execution_count": 6,
   "id": "fe0bfffd",
   "metadata": {},
   "outputs": [
    {
     "data": {
      "text/html": [
       "<div>\n",
       "<style scoped>\n",
       "    .dataframe tbody tr th:only-of-type {\n",
       "        vertical-align: middle;\n",
       "    }\n",
       "\n",
       "    .dataframe tbody tr th {\n",
       "        vertical-align: top;\n",
       "    }\n",
       "\n",
       "    .dataframe thead th {\n",
       "        text-align: right;\n",
       "    }\n",
       "</style>\n",
       "<table border=\"1\" class=\"dataframe\">\n",
       "  <thead>\n",
       "    <tr style=\"text-align: right;\">\n",
       "      <th></th>\n",
       "      <th>Pregnancies</th>\n",
       "      <th>Glucose</th>\n",
       "      <th>BloodPressure</th>\n",
       "      <th>SkinThickness</th>\n",
       "      <th>Insulin</th>\n",
       "      <th>BMI</th>\n",
       "      <th>DiabetesPedigreeFunction</th>\n",
       "      <th>Age</th>\n",
       "      <th>Outcome</th>\n",
       "    </tr>\n",
       "  </thead>\n",
       "  <tbody>\n",
       "    <tr>\n",
       "      <th>0</th>\n",
       "      <td>6</td>\n",
       "      <td>148.0</td>\n",
       "      <td>72.0</td>\n",
       "      <td>35.0</td>\n",
       "      <td>NaN</td>\n",
       "      <td>33.6</td>\n",
       "      <td>0.627</td>\n",
       "      <td>50</td>\n",
       "      <td>1</td>\n",
       "    </tr>\n",
       "    <tr>\n",
       "      <th>1</th>\n",
       "      <td>1</td>\n",
       "      <td>85.0</td>\n",
       "      <td>66.0</td>\n",
       "      <td>29.0</td>\n",
       "      <td>NaN</td>\n",
       "      <td>26.6</td>\n",
       "      <td>0.351</td>\n",
       "      <td>31</td>\n",
       "      <td>0</td>\n",
       "    </tr>\n",
       "    <tr>\n",
       "      <th>2</th>\n",
       "      <td>8</td>\n",
       "      <td>183.0</td>\n",
       "      <td>64.0</td>\n",
       "      <td>NaN</td>\n",
       "      <td>NaN</td>\n",
       "      <td>23.3</td>\n",
       "      <td>0.672</td>\n",
       "      <td>32</td>\n",
       "      <td>1</td>\n",
       "    </tr>\n",
       "    <tr>\n",
       "      <th>3</th>\n",
       "      <td>1</td>\n",
       "      <td>89.0</td>\n",
       "      <td>66.0</td>\n",
       "      <td>23.0</td>\n",
       "      <td>94.0</td>\n",
       "      <td>28.1</td>\n",
       "      <td>0.167</td>\n",
       "      <td>21</td>\n",
       "      <td>0</td>\n",
       "    </tr>\n",
       "    <tr>\n",
       "      <th>4</th>\n",
       "      <td>0</td>\n",
       "      <td>137.0</td>\n",
       "      <td>40.0</td>\n",
       "      <td>35.0</td>\n",
       "      <td>168.0</td>\n",
       "      <td>43.1</td>\n",
       "      <td>2.288</td>\n",
       "      <td>33</td>\n",
       "      <td>1</td>\n",
       "    </tr>\n",
       "  </tbody>\n",
       "</table>\n",
       "</div>"
      ],
      "text/plain": [
       "   Pregnancies  Glucose  BloodPressure  SkinThickness  Insulin   BMI  \\\n",
       "0            6    148.0           72.0           35.0      NaN  33.6   \n",
       "1            1     85.0           66.0           29.0      NaN  26.6   \n",
       "2            8    183.0           64.0            NaN      NaN  23.3   \n",
       "3            1     89.0           66.0           23.0     94.0  28.1   \n",
       "4            0    137.0           40.0           35.0    168.0  43.1   \n",
       "\n",
       "   DiabetesPedigreeFunction  Age  Outcome  \n",
       "0                     0.627   50        1  \n",
       "1                     0.351   31        0  \n",
       "2                     0.672   32        1  \n",
       "3                     0.167   21        0  \n",
       "4                     2.288   33        1  "
      ]
     },
     "execution_count": 6,
     "metadata": {},
     "output_type": "execute_result"
    }
   ],
   "source": [
    "diabetes_data.head()"
   ]
  },
  {
   "cell_type": "code",
   "execution_count": 7,
   "id": "63fdad45",
   "metadata": {},
   "outputs": [],
   "source": [
    "X = diabetes_data.drop(\"Outcome\", axis = 1)\n",
    "y = diabetes_data['Outcome']"
   ]
  },
  {
   "cell_type": "markdown",
   "id": "74265650",
   "metadata": {},
   "source": [
    "# Splitting the dataset into train and set split"
   ]
  },
  {
   "cell_type": "code",
   "execution_count": 9,
   "id": "f7fbaac6",
   "metadata": {},
   "outputs": [],
   "source": [
    "from sklearn.model_selection import train_test_split\n",
    "X_train, X_test, y_train, y_test = train_test_split(X, y, random_state = 7)"
   ]
  },
  {
   "cell_type": "markdown",
   "id": "3866ff91",
   "metadata": {},
   "source": [
    "\n",
    "# Replacing all the null values with medians"
   ]
  },
  {
   "cell_type": "code",
   "execution_count": 10,
   "id": "f1e48118",
   "metadata": {},
   "outputs": [
    {
     "data": {
      "text/plain": [
       "array([  3.   , 116.   ,  72.   ,  29.   , 125.   ,  32.5  ,   0.364,\n",
       "        29.   ])"
      ]
     },
     "execution_count": 10,
     "metadata": {},
     "output_type": "execute_result"
    }
   ],
   "source": [
    "from sklearn.impute import SimpleImputer\n",
    "imputer = SimpleImputer(strategy='median')\n",
    "imputer.fit(X_train)\n",
    "X_train.median().values"
   ]
  },
  {
   "cell_type": "code",
   "execution_count": 36,
   "id": "2972977c",
   "metadata": {},
   "outputs": [],
   "source": [
    "# Transform the training data by replacing nulls with medians\n",
    "X_train_tr = imputer.transform(X_train)\n",
    "# convert np array to pd df\n",
    "X_train_transform_df = pd.DataFrame(X_train_tr, columns = X_train.columns, index = X_train.index) "
   ]
  },
  {
   "cell_type": "code",
   "execution_count": 37,
   "id": "8ab75ae8",
   "metadata": {},
   "outputs": [
    {
     "data": {
      "text/html": [
       "<div>\n",
       "<style scoped>\n",
       "    .dataframe tbody tr th:only-of-type {\n",
       "        vertical-align: middle;\n",
       "    }\n",
       "\n",
       "    .dataframe tbody tr th {\n",
       "        vertical-align: top;\n",
       "    }\n",
       "\n",
       "    .dataframe thead th {\n",
       "        text-align: right;\n",
       "    }\n",
       "</style>\n",
       "<table border=\"1\" class=\"dataframe\">\n",
       "  <thead>\n",
       "    <tr style=\"text-align: right;\">\n",
       "      <th></th>\n",
       "      <th>Pregnancies</th>\n",
       "      <th>Glucose</th>\n",
       "      <th>BloodPressure</th>\n",
       "      <th>SkinThickness</th>\n",
       "      <th>Insulin</th>\n",
       "      <th>BMI</th>\n",
       "      <th>DiabetesPedigreeFunction</th>\n",
       "      <th>Age</th>\n",
       "    </tr>\n",
       "  </thead>\n",
       "  <tbody>\n",
       "    <tr>\n",
       "      <th>455</th>\n",
       "      <td>14.0</td>\n",
       "      <td>175.0</td>\n",
       "      <td>62.0</td>\n",
       "      <td>30.0</td>\n",
       "      <td>125.0</td>\n",
       "      <td>33.6</td>\n",
       "      <td>0.212</td>\n",
       "      <td>38.0</td>\n",
       "    </tr>\n",
       "    <tr>\n",
       "      <th>611</th>\n",
       "      <td>3.0</td>\n",
       "      <td>174.0</td>\n",
       "      <td>58.0</td>\n",
       "      <td>22.0</td>\n",
       "      <td>194.0</td>\n",
       "      <td>32.9</td>\n",
       "      <td>0.593</td>\n",
       "      <td>36.0</td>\n",
       "    </tr>\n",
       "    <tr>\n",
       "      <th>578</th>\n",
       "      <td>10.0</td>\n",
       "      <td>133.0</td>\n",
       "      <td>68.0</td>\n",
       "      <td>29.0</td>\n",
       "      <td>125.0</td>\n",
       "      <td>27.0</td>\n",
       "      <td>0.245</td>\n",
       "      <td>36.0</td>\n",
       "    </tr>\n",
       "    <tr>\n",
       "      <th>711</th>\n",
       "      <td>5.0</td>\n",
       "      <td>126.0</td>\n",
       "      <td>78.0</td>\n",
       "      <td>27.0</td>\n",
       "      <td>22.0</td>\n",
       "      <td>29.6</td>\n",
       "      <td>0.439</td>\n",
       "      <td>40.0</td>\n",
       "    </tr>\n",
       "    <tr>\n",
       "      <th>499</th>\n",
       "      <td>6.0</td>\n",
       "      <td>154.0</td>\n",
       "      <td>74.0</td>\n",
       "      <td>32.0</td>\n",
       "      <td>193.0</td>\n",
       "      <td>29.3</td>\n",
       "      <td>0.839</td>\n",
       "      <td>39.0</td>\n",
       "    </tr>\n",
       "  </tbody>\n",
       "</table>\n",
       "</div>"
      ],
      "text/plain": [
       "     Pregnancies  Glucose  BloodPressure  SkinThickness  Insulin   BMI  \\\n",
       "455         14.0    175.0           62.0           30.0    125.0  33.6   \n",
       "611          3.0    174.0           58.0           22.0    194.0  32.9   \n",
       "578         10.0    133.0           68.0           29.0    125.0  27.0   \n",
       "711          5.0    126.0           78.0           27.0     22.0  29.6   \n",
       "499          6.0    154.0           74.0           32.0    193.0  29.3   \n",
       "\n",
       "     DiabetesPedigreeFunction   Age  \n",
       "455                     0.212  38.0  \n",
       "611                     0.593  36.0  \n",
       "578                     0.245  36.0  \n",
       "711                     0.439  40.0  \n",
       "499                     0.839  39.0  "
      ]
     },
     "execution_count": 37,
     "metadata": {},
     "output_type": "execute_result"
    }
   ],
   "source": [
    "X_train_transform_df.head()"
   ]
  },
  {
   "cell_type": "markdown",
   "id": "1dc37cee",
   "metadata": {},
   "source": [
    "#  Standardize the dataset to balance it with the Outcome target"
   ]
  },
  {
   "cell_type": "code",
   "execution_count": 19,
   "id": "bb070253",
   "metadata": {},
   "outputs": [
    {
     "data": {
      "text/html": [
       "<div>\n",
       "<style scoped>\n",
       "    .dataframe tbody tr th:only-of-type {\n",
       "        vertical-align: middle;\n",
       "    }\n",
       "\n",
       "    .dataframe tbody tr th {\n",
       "        vertical-align: top;\n",
       "    }\n",
       "\n",
       "    .dataframe thead th {\n",
       "        text-align: right;\n",
       "    }\n",
       "</style>\n",
       "<table border=\"1\" class=\"dataframe\">\n",
       "  <thead>\n",
       "    <tr style=\"text-align: right;\">\n",
       "      <th></th>\n",
       "      <th>Pregnancies</th>\n",
       "      <th>Glucose</th>\n",
       "      <th>BloodPressure</th>\n",
       "      <th>SkinThickness</th>\n",
       "      <th>Insulin</th>\n",
       "      <th>BMI</th>\n",
       "      <th>DiabetesPedigreeFunction</th>\n",
       "      <th>Age</th>\n",
       "    </tr>\n",
       "  </thead>\n",
       "  <tbody>\n",
       "    <tr>\n",
       "      <th>455</th>\n",
       "      <td>3.067243</td>\n",
       "      <td>1.781951</td>\n",
       "      <td>-0.826305</td>\n",
       "      <td>0.109320</td>\n",
       "      <td>-0.165202</td>\n",
       "      <td>0.140814</td>\n",
       "      <td>-0.764916</td>\n",
       "      <td>0.448125</td>\n",
       "    </tr>\n",
       "    <tr>\n",
       "      <th>611</th>\n",
       "      <td>-0.244062</td>\n",
       "      <td>1.749072</td>\n",
       "      <td>-1.158674</td>\n",
       "      <td>-0.785431</td>\n",
       "      <td>0.695773</td>\n",
       "      <td>0.040307</td>\n",
       "      <td>0.389314</td>\n",
       "      <td>0.273779</td>\n",
       "    </tr>\n",
       "    <tr>\n",
       "      <th>578</th>\n",
       "      <td>1.863132</td>\n",
       "      <td>0.401050</td>\n",
       "      <td>-0.327752</td>\n",
       "      <td>-0.002524</td>\n",
       "      <td>-0.165202</td>\n",
       "      <td>-0.806822</td>\n",
       "      <td>-0.664943</td>\n",
       "      <td>0.273779</td>\n",
       "    </tr>\n",
       "    <tr>\n",
       "      <th>711</th>\n",
       "      <td>0.357993</td>\n",
       "      <td>0.170900</td>\n",
       "      <td>0.503169</td>\n",
       "      <td>-0.226212</td>\n",
       "      <td>-1.450426</td>\n",
       "      <td>-0.433511</td>\n",
       "      <td>-0.077225</td>\n",
       "      <td>0.622472</td>\n",
       "    </tr>\n",
       "    <tr>\n",
       "      <th>499</th>\n",
       "      <td>0.659021</td>\n",
       "      <td>1.091500</td>\n",
       "      <td>0.170801</td>\n",
       "      <td>0.333007</td>\n",
       "      <td>0.683295</td>\n",
       "      <td>-0.476585</td>\n",
       "      <td>1.134564</td>\n",
       "      <td>0.535299</td>\n",
       "    </tr>\n",
       "  </tbody>\n",
       "</table>\n",
       "</div>"
      ],
      "text/plain": [
       "     Pregnancies   Glucose  BloodPressure  SkinThickness   Insulin       BMI  \\\n",
       "455     3.067243  1.781951      -0.826305       0.109320 -0.165202  0.140814   \n",
       "611    -0.244062  1.749072      -1.158674      -0.785431  0.695773  0.040307   \n",
       "578     1.863132  0.401050      -0.327752      -0.002524 -0.165202 -0.806822   \n",
       "711     0.357993  0.170900       0.503169      -0.226212 -1.450426 -0.433511   \n",
       "499     0.659021  1.091500       0.170801       0.333007  0.683295 -0.476585   \n",
       "\n",
       "     DiabetesPedigreeFunction       Age  \n",
       "455                 -0.764916  0.448125  \n",
       "611                  0.389314  0.273779  \n",
       "578                 -0.664943  0.273779  \n",
       "711                 -0.077225  0.622472  \n",
       "499                  1.134564  0.535299  "
      ]
     },
     "execution_count": 19,
     "metadata": {},
     "output_type": "execute_result"
    }
   ],
   "source": [
    "# Standadize the data\n",
    "from sklearn.preprocessing import StandardScaler\n",
    "scaler = StandardScaler()\n",
    "X_train_transform2 = scaler.fit_transform(X_train_transform_df) # This returns a numpy array\n",
    "X_train_transform2_df = pd.DataFrame(X_train_transform2, columns = X_train.columns, index = X_train.index)\n",
    "X_train_transform2_df.head()"
   ]
  },
  {
   "cell_type": "code",
   "execution_count": 20,
   "id": "81d5d207",
   "metadata": {},
   "outputs": [
    {
     "name": "stdout",
     "output_type": "stream",
     "text": [
      "<class 'pandas.core.frame.DataFrame'>\n",
      "Int64Index: 192 entries, 353 to 358\n",
      "Data columns (total 8 columns):\n",
      " #   Column                    Non-Null Count  Dtype  \n",
      "---  ------                    --------------  -----  \n",
      " 0   Pregnancies               192 non-null    float64\n",
      " 1   Glucose                   192 non-null    float64\n",
      " 2   BloodPressure             192 non-null    float64\n",
      " 3   SkinThickness             192 non-null    float64\n",
      " 4   Insulin                   192 non-null    float64\n",
      " 5   BMI                       192 non-null    float64\n",
      " 6   DiabetesPedigreeFunction  192 non-null    float64\n",
      " 7   Age                       192 non-null    float64\n",
      "dtypes: float64(8)\n",
      "memory usage: 13.5 KB\n"
     ]
    }
   ],
   "source": [
    "# Replace nulls with medians in the test set\n",
    "X_test_transform = imputer.transform(X_test)   \n",
    "# convert np array to pd df\n",
    "X_test_transform_df = pd.DataFrame(X_test_transform, columns=X_test.columns, index=X_test.index) \n",
    "X_test_transform_df.info()"
   ]
  },
  {
   "cell_type": "code",
   "execution_count": 21,
   "id": "53f0a112",
   "metadata": {},
   "outputs": [
    {
     "data": {
      "text/html": [
       "<div>\n",
       "<style scoped>\n",
       "    .dataframe tbody tr th:only-of-type {\n",
       "        vertical-align: middle;\n",
       "    }\n",
       "\n",
       "    .dataframe tbody tr th {\n",
       "        vertical-align: top;\n",
       "    }\n",
       "\n",
       "    .dataframe thead th {\n",
       "        text-align: right;\n",
       "    }\n",
       "</style>\n",
       "<table border=\"1\" class=\"dataframe\">\n",
       "  <thead>\n",
       "    <tr style=\"text-align: right;\">\n",
       "      <th></th>\n",
       "      <th>Pregnancies</th>\n",
       "      <th>Glucose</th>\n",
       "      <th>BloodPressure</th>\n",
       "      <th>SkinThickness</th>\n",
       "      <th>Insulin</th>\n",
       "      <th>BMI</th>\n",
       "      <th>DiabetesPedigreeFunction</th>\n",
       "      <th>Age</th>\n",
       "    </tr>\n",
       "  </thead>\n",
       "  <tbody>\n",
       "    <tr>\n",
       "      <th>353</th>\n",
       "      <td>1.0</td>\n",
       "      <td>90.0</td>\n",
       "      <td>62.0</td>\n",
       "      <td>12.0</td>\n",
       "      <td>43.0</td>\n",
       "      <td>27.2</td>\n",
       "      <td>0.580</td>\n",
       "      <td>24.0</td>\n",
       "    </tr>\n",
       "    <tr>\n",
       "      <th>236</th>\n",
       "      <td>7.0</td>\n",
       "      <td>181.0</td>\n",
       "      <td>84.0</td>\n",
       "      <td>21.0</td>\n",
       "      <td>192.0</td>\n",
       "      <td>35.9</td>\n",
       "      <td>0.586</td>\n",
       "      <td>51.0</td>\n",
       "    </tr>\n",
       "    <tr>\n",
       "      <th>323</th>\n",
       "      <td>13.0</td>\n",
       "      <td>152.0</td>\n",
       "      <td>90.0</td>\n",
       "      <td>33.0</td>\n",
       "      <td>29.0</td>\n",
       "      <td>26.8</td>\n",
       "      <td>0.731</td>\n",
       "      <td>43.0</td>\n",
       "    </tr>\n",
       "    <tr>\n",
       "      <th>98</th>\n",
       "      <td>6.0</td>\n",
       "      <td>93.0</td>\n",
       "      <td>50.0</td>\n",
       "      <td>30.0</td>\n",
       "      <td>64.0</td>\n",
       "      <td>28.7</td>\n",
       "      <td>0.356</td>\n",
       "      <td>23.0</td>\n",
       "    </tr>\n",
       "    <tr>\n",
       "      <th>701</th>\n",
       "      <td>6.0</td>\n",
       "      <td>125.0</td>\n",
       "      <td>78.0</td>\n",
       "      <td>31.0</td>\n",
       "      <td>125.0</td>\n",
       "      <td>27.6</td>\n",
       "      <td>0.565</td>\n",
       "      <td>49.0</td>\n",
       "    </tr>\n",
       "  </tbody>\n",
       "</table>\n",
       "</div>"
      ],
      "text/plain": [
       "     Pregnancies  Glucose  BloodPressure  SkinThickness  Insulin   BMI  \\\n",
       "353          1.0     90.0           62.0           12.0     43.0  27.2   \n",
       "236          7.0    181.0           84.0           21.0    192.0  35.9   \n",
       "323         13.0    152.0           90.0           33.0     29.0  26.8   \n",
       "98           6.0     93.0           50.0           30.0     64.0  28.7   \n",
       "701          6.0    125.0           78.0           31.0    125.0  27.6   \n",
       "\n",
       "     DiabetesPedigreeFunction   Age  \n",
       "353                     0.580  24.0  \n",
       "236                     0.586  51.0  \n",
       "323                     0.731  43.0  \n",
       "98                      0.356  23.0  \n",
       "701                     0.565  49.0  "
      ]
     },
     "execution_count": 21,
     "metadata": {},
     "output_type": "execute_result"
    }
   ],
   "source": [
    "X_test_transform_df.head()"
   ]
  },
  {
   "cell_type": "code",
   "execution_count": 24,
   "id": "72f8414c",
   "metadata": {},
   "outputs": [
    {
     "data": {
      "text/html": [
       "<div>\n",
       "<style scoped>\n",
       "    .dataframe tbody tr th:only-of-type {\n",
       "        vertical-align: middle;\n",
       "    }\n",
       "\n",
       "    .dataframe tbody tr th {\n",
       "        vertical-align: top;\n",
       "    }\n",
       "\n",
       "    .dataframe thead th {\n",
       "        text-align: right;\n",
       "    }\n",
       "</style>\n",
       "<table border=\"1\" class=\"dataframe\">\n",
       "  <thead>\n",
       "    <tr style=\"text-align: right;\">\n",
       "      <th></th>\n",
       "      <th>Pregnancies</th>\n",
       "      <th>Glucose</th>\n",
       "      <th>BloodPressure</th>\n",
       "      <th>SkinThickness</th>\n",
       "      <th>Insulin</th>\n",
       "      <th>BMI</th>\n",
       "      <th>DiabetesPedigreeFunction</th>\n",
       "      <th>Age</th>\n",
       "    </tr>\n",
       "  </thead>\n",
       "  <tbody>\n",
       "    <tr>\n",
       "      <th>353</th>\n",
       "      <td>-0.842714</td>\n",
       "      <td>-1.128791</td>\n",
       "      <td>-0.963844</td>\n",
       "      <td>-2.093100</td>\n",
       "      <td>-1.025846</td>\n",
       "      <td>-0.728169</td>\n",
       "      <td>0.258025</td>\n",
       "      <td>-0.831589</td>\n",
       "    </tr>\n",
       "    <tr>\n",
       "      <th>236</th>\n",
       "      <td>0.872491</td>\n",
       "      <td>1.875357</td>\n",
       "      <td>0.846417</td>\n",
       "      <td>-1.008254</td>\n",
       "      <td>0.430312</td>\n",
       "      <td>0.598692</td>\n",
       "      <td>0.276033</td>\n",
       "      <td>1.330376</td>\n",
       "    </tr>\n",
       "    <tr>\n",
       "      <th>323</th>\n",
       "      <td>2.587697</td>\n",
       "      <td>0.917991</td>\n",
       "      <td>1.340125</td>\n",
       "      <td>0.438207</td>\n",
       "      <td>-1.162666</td>\n",
       "      <td>-0.789174</td>\n",
       "      <td>0.711232</td>\n",
       "      <td>0.689794</td>\n",
       "    </tr>\n",
       "    <tr>\n",
       "      <th>98</th>\n",
       "      <td>0.586624</td>\n",
       "      <td>-1.029753</td>\n",
       "      <td>-1.951259</td>\n",
       "      <td>0.076592</td>\n",
       "      <td>-0.820616</td>\n",
       "      <td>-0.499400</td>\n",
       "      <td>-0.414284</td>\n",
       "      <td>-0.911662</td>\n",
       "    </tr>\n",
       "    <tr>\n",
       "      <th>701</th>\n",
       "      <td>0.586624</td>\n",
       "      <td>0.026651</td>\n",
       "      <td>0.352710</td>\n",
       "      <td>0.197131</td>\n",
       "      <td>-0.224471</td>\n",
       "      <td>-0.667164</td>\n",
       "      <td>0.213004</td>\n",
       "      <td>1.170231</td>\n",
       "    </tr>\n",
       "  </tbody>\n",
       "</table>\n",
       "</div>"
      ],
      "text/plain": [
       "     Pregnancies   Glucose  BloodPressure  SkinThickness   Insulin       BMI  \\\n",
       "353    -0.842714 -1.128791      -0.963844      -2.093100 -1.025846 -0.728169   \n",
       "236     0.872491  1.875357       0.846417      -1.008254  0.430312  0.598692   \n",
       "323     2.587697  0.917991       1.340125       0.438207 -1.162666 -0.789174   \n",
       "98      0.586624 -1.029753      -1.951259       0.076592 -0.820616 -0.499400   \n",
       "701     0.586624  0.026651       0.352710       0.197131 -0.224471 -0.667164   \n",
       "\n",
       "     DiabetesPedigreeFunction       Age  \n",
       "353                  0.258025 -0.831589  \n",
       "236                  0.276033  1.330376  \n",
       "323                  0.711232  0.689794  \n",
       "98                  -0.414284 -0.911662  \n",
       "701                  0.213004  1.170231  "
      ]
     },
     "execution_count": 24,
     "metadata": {},
     "output_type": "execute_result"
    }
   ],
   "source": [
    "# Scale the test set\n",
    "X_test_transform2 = scaler.fit_transform(X_test_transform_df) # This returns a numpy array\n",
    "X_test_transform2_df = pd.DataFrame(X_test_transform2, columns=X_test.columns, index=X_test.index)\n",
    "X_test_transform2_df.head()"
   ]
  },
  {
   "cell_type": "markdown",
   "id": "d299ffb4",
   "metadata": {},
   "source": [
    "# Training our model using RandomForestClassifier"
   ]
  },
  {
   "cell_type": "code",
   "execution_count": 25,
   "id": "b5aff1a0",
   "metadata": {},
   "outputs": [
    {
     "data": {
      "text/plain": [
       "RandomForestClassifier(n_estimators=200)"
      ]
     },
     "execution_count": 25,
     "metadata": {},
     "output_type": "execute_result"
    }
   ],
   "source": [
    "from sklearn.ensemble import RandomForestClassifier\n",
    "\n",
    "rfc = RandomForestClassifier(n_estimators=200)\n",
    "rfc.fit(X_train_transform2_df, y_train)"
   ]
  },
  {
   "cell_type": "code",
   "execution_count": 34,
   "id": "9ebe284b",
   "metadata": {},
   "outputs": [
    {
     "name": "stdout",
     "output_type": "stream",
     "text": [
      "Random Forest Classifier Accuracy Score using the Train sets = 1.0\n"
     ]
    }
   ],
   "source": [
    "from sklearn import metrics\n",
    "\n",
    "rfc_train = rfc.predict(X_train_transform2_df)\n",
    "print(\"Random Forest Classifier Accuracy Score using the Train sets =\", format(metrics.accuracy_score(y_train, rfc_train)))"
   ]
  },
  {
   "cell_type": "markdown",
   "id": "7dda6616",
   "metadata": {},
   "source": [
    "The above model is overfitted against the train set"
   ]
  },
  {
   "cell_type": "code",
   "execution_count": 35,
   "id": "e8cf8967",
   "metadata": {},
   "outputs": [
    {
     "name": "stdout",
     "output_type": "stream",
     "text": [
      "Random Forest Classifier Accuracy Score using teh test sets = 0.7760416666666666\n"
     ]
    }
   ],
   "source": [
    "predictions = rfc.predict(X_test_transform2_df)\n",
    "print(\"Random Forest Classifier Accuracy Score using teh test sets =\", format(metrics.accuracy_score(y_test, predictions)))"
   ]
  },
  {
   "cell_type": "markdown",
   "id": "361a16f2",
   "metadata": {},
   "source": [
    "# Scoring our Accuracy using the DecisionTreeClassifier"
   ]
  },
  {
   "cell_type": "code",
   "execution_count": 44,
   "id": "0123b670",
   "metadata": {},
   "outputs": [
    {
     "data": {
      "text/plain": [
       "DecisionTreeClassifier(criterion='entropy', max_depth=3)"
      ]
     },
     "execution_count": 44,
     "metadata": {},
     "output_type": "execute_result"
    }
   ],
   "source": [
    "from sklearn.tree import DecisionTreeClassifier\n",
    "\n",
    "dtree = DecisionTreeClassifier(criterion=\"entropy\", max_depth=3)\n",
    "dtree.fit(X_train_transform2_df, y_train)"
   ]
  },
  {
   "cell_type": "code",
   "execution_count": 30,
   "id": "34fb9c4c",
   "metadata": {},
   "outputs": [
    {
     "name": "stdout",
     "output_type": "stream",
     "text": [
      "Decision Tree Accuracy Score = 0.6927083333333334\n"
     ]
    }
   ],
   "source": [
    "predictions = dtree.predict(X_test_transform2_df)\n",
    "print(\"Decision Tree Accuracy Score =\", format(metrics.accuracy_score(y_test,predictions)))"
   ]
  },
  {
   "cell_type": "markdown",
   "id": "37ac9f9d",
   "metadata": {},
   "source": [
    "# Plotting our DecisionTree"
   ]
  },
  {
   "cell_type": "code",
   "execution_count": 51,
   "id": "c21b69c7",
   "metadata": {},
   "outputs": [
    {
     "data": {
      "text/plain": [
       "Index(['Pregnancies', 'Glucose', 'BloodPressure', 'SkinThickness', 'Insulin',\n",
       "       'BMI', 'DiabetesPedigreeFunction', 'Age'],\n",
       "      dtype='object')"
      ]
     },
     "execution_count": 51,
     "metadata": {},
     "output_type": "execute_result"
    }
   ],
   "source": [
    "features = X.columns\n",
    "features"
   ]
  },
  {
   "cell_type": "code",
   "execution_count": 52,
   "id": "0b6d7284",
   "metadata": {},
   "outputs": [
    {
     "data": {
      "image/png": "[encoded data removed]",
      "text/plain": [
       "<IPython.core.display.Image object>"
      ]
     },
     "execution_count": 52,
     "metadata": {},
     "output_type": "execute_result"
    }
   ],
   "source": [
    "from six import StringIO  \n",
    "from IPython.display import Image  \n",
    "from sklearn.tree import export_graphviz\n",
    "import pydotplus\n",
    "dot_data = StringIO()\n",
    "export_graphviz(dtree, out_file=dot_data,filled=True, rounded=True,special_characters=True, feature_names = features,class_names=['0','1'])\n",
    "graph = pydotplus.graph_from_dot_data(dot_data.getvalue())  \n",
    "graph.write_png('diabetes_set.png')\n",
    "Image(graph.create_png())"
   ]
  }
 ],
 "metadata": {
  "kernelspec": {
   "display_name": "Python 3 (ipykernel)",
   "language": "python",
   "name": "python3"
  },
  "language_info": {
   "codemirror_mode": {
    "name": "ipython",
    "version": 3
   },
   "file_extension": ".py",
   "mimetype": "text/x-python",
   "name": "python",
   "nbconvert_exporter": "python",
   "pygments_lexer": "ipython3",
   "version": "3.9.12"
  }
 },
 "nbformat": 4,
 "nbformat_minor": 5
}
